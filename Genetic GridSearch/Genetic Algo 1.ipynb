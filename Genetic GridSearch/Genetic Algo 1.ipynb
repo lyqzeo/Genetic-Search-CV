{
 "cells": [
  {
   "cell_type": "code",
   "execution_count": 1,
   "metadata": {},
   "outputs": [
    {
     "name": "stderr",
     "output_type": "stream",
     "text": [
      "c:\\Users\\ZOEYIQINLUA\\.conda\\envs\\genEnv\\Lib\\site-packages\\tqdm\\auto.py:21: TqdmWarning: IProgress not found. Please update jupyter and ipywidgets. See https://ipywidgets.readthedocs.io/en/stable/user_install.html\n",
      "  from .autonotebook import tqdm as notebook_tqdm\n"
     ]
    }
   ],
   "source": [
    "import pandas as pd\n",
    "import numpy as np\n",
    "from typing import List, Optional, Callable, Tuple\n",
    "from numpy import random\n",
    "import itertools\n",
    "import math\n",
    "import statistics\n",
    "from tabulate import tabulate\n",
    "import time\n",
    "import joblib\n",
    "import matplotlib.pyplot as plt\n",
    "from scipy import stats\n",
    "\n",
    "from sklearn.base import clone\n",
    "from sklearn.metrics import r2_score\n",
    "from sklearn.metrics import mean_squared_error as mse_score\n",
    "from sklearn.metrics import mean_absolute_error as mae_score\n",
    "from sklearn.metrics import mean_absolute_percentage_error as mape_score\n",
    "from sklearn_genetic import GASearchCV\n",
    "from sklearn.metrics import accuracy_score\n",
    "from sklearn.model_selection import GridSearchCV, RepeatedKFold\n",
    "from sklearn.model_selection import train_test_split\n",
    "# from sklearn_genetic.space import Categorical, Integer, Continuous\n",
    "from sklearn.metrics import make_scorer\n",
    "from sklearn.metrics import classification_report\n",
    "\n",
    "import optuna\n",
    "import plotly.graph_objects as go\n",
    "\n",
    "from space import Space\n",
    "from helper import *\n",
    "from evaluate import Evaluate"
   ]
  },
  {
   "cell_type": "markdown",
   "metadata": {},
   "source": [
    "<font size = 6> Genetic algo with Adaptive Mutation</font>\n",
    "\n",
    "\n",
    "Fitness based adaptive Mutation<br>\n",
    "https://neptune.ai/blog/adaptive-mutation-in-genetic-algorithm-with-python-examples<br>\n",
    "https://www.atlantis-press.com/article/7393.pdf\n",
    "\n",
    "Rank based adaptive mutation <br>\n",
    "https://arxiv.org/pdf/2104.08842\n",
    "\n",
    "A good crossover operator for real encoding was proposed by K. Deb in 1995. Here is the paper: http://www.complex-systems.com/pdf/09-2-2.pdf\n",
    "\n",
    "Parameters \n",
    "1. Param Grid: Given\n",
    "2. Genome: One combination of Param Grid\n",
    "3. Population: All combinations of Param Grid considered\n",
    "\n",
    "Functions\n",
    "1. Genetic Representation of Genome, Population (solutions)\n",
    "2. Generating new solutions\n",
    "3. Fitness Value functions: MSE, MAE, etc\n",
    "4. Elitism/Selection Function: Choose which Genome to undergo CrossOver, can use python's choice function, weight = Fitness Value\n",
    "5. Cross over Function\n",
    "6. Mutation Algo: Usually mutation rate is set to 1/L, where L is the length of the bitstring.\n",
    "7. Evolution Algo\n",
    "\n",
    "Classes\n",
    "1. Genome\n",
    "2. Population\n",
    "3. GenomSearch\n",
    "    - GenomSearchCV\n",
    "\n",
    "\n",
    "Limitations\n",
    "1. Must be a range\n",
    "2. cannot pipeline\n",
    "\n",
    "Future:\n",
    "1. Allow for more flexible formatting of param_grid\n",
    "2. Take care of edge cases\n",
    "3. Convert to binary (maybe faster?)\n",
    "4. In population.mutation() -> Maybe can update f_max and f_avg as we are mutating, else can try parallel processing\n",
    "\n",
    "Fitness Function:\n",
    "Fine-tune the fitness function to better represent the problem's objectives and constraints. A well-designed fitness function guides the algorithm toward the desired solutions.\n",
    "\n",
    "Constraint Handling:\n",
    "Implement techniques for handling constraints effectively. Penalization or repair methods can ensure that generated solutions comply with the problem constraints.\n",
    "\n",
    "Diversity Preservation:\n",
    "Encourage diversity within the population to prevent premature convergence to local optima. Diversity-preserving techniques, such as crowding or fitness sharing, can help in maintaining a diverse set of solutions.\n",
    "\n",
    "Hybrid Approaches:\n",
    "Consider combining the genetic algorithm with other optimization techniques, such as local search or simulated annealing, to explore the search space more effectively.\n",
    "\n",
    "Parameter Tuning:\n",
    "Perform parameter tuning using techniques like grid search or genetic algorithms themselves to optimize the genetic algorithm's parameters for your specific problem.\n",
    "\n",
    "Parallelization:\n",
    "If your problem domain allows it, consider parallelizing the genetic algorithm to run multiple populations concurrently. This can significantly speed up the search process.\n",
    "\n",
    "\n"
   ]
  },
  {
   "cell_type": "code",
   "execution_count": 2,
   "metadata": {},
   "outputs": [
    {
     "data": {
      "text/plain": [
       "'\\nInput example:\\n\\nparam_grid = {\\'tol\\': Continuous(1e-2, 1e10, distribution=\\'log-uniform\\'),\\n              \\'alpha\\': Continuous(1e-5, 2e-5),\\n              \\'activation\\': Categorical([\\'logistic\\', \\'tanh\\']),\\n              \\'batch_size\\': Integer(300, 350)\\n             }\\n\\navailable dtypes:\\ncategory, int, float\\n\\npopulation = [Genome1, Genome2, Genome3, ...]\\n\\n\\nneed to make one for pipelining so like \"PCA__n componenes\"\\n\\n'"
      ]
     },
     "execution_count": 2,
     "metadata": {},
     "output_type": "execute_result"
    }
   ],
   "source": [
    "\"\"\"\n",
    "Input example:\n",
    "\n",
    "param_grid = {'tol': Continuous(1e-2, 1e10, distribution='log-uniform'),\n",
    "              'alpha': Continuous(1e-5, 2e-5),\n",
    "              'activation': Categorical(['logistic', 'tanh']),\n",
    "              'batch_size': Integer(300, 350)\n",
    "             }\n",
    "\n",
    "available dtypes:\n",
    "category, int, float\n",
    "\n",
    "population = [Genome1, Genome2, Genome3, ...]\n",
    "\n",
    "\n",
    "need to make one for pipelining so like \"PCA__n componenes\"\n",
    "\n",
    "\"\"\""
   ]
  },
  {
   "cell_type": "code",
   "execution_count": 4,
   "metadata": {},
   "outputs": [],
   "source": [
    "### Config\n",
    "import os\n",
    "\n",
    "log_file_dir = \"log/\"\n",
    "log_file_name = \"log_1\"\n",
    "log_file = log_file_dir + log_file_name + \".txt\"\n",
    "\n",
    "if not os.path.exists(log_file_dir):\n",
    "    os.makedirs(log_file_dir)\n",
    "    print(\"log directory successfully created\")\n",
    "\n",
    "\n"
   ]
  },
  {
   "cell_type": "code",
   "execution_count": 5,
   "metadata": {
    "tags": [
     "parameters"
    ]
   },
   "outputs": [],
   "source": [
    "class Genome():\n",
    "    def __init__(self, hyperparameters, **params):\n",
    "\n",
    "        self.initialise_shared_var(**params)\n",
    "\n",
    "        self.params = hyperparameters\n",
    "        self.fitness = self.calc_fitness(self.params)\n",
    "\n",
    "    @classmethod\n",
    "    def initialise_shared_var(cls, **params):\n",
    "        try:\n",
    "            cls.X_train = params['X_train']\n",
    "            cls.y_train = params['y_train']\n",
    "            cls.estimator = params['estimator']\n",
    "            cls.metric = params['metric']\n",
    "            cls.cv = params['cv']\n",
    "            cls.cv_shuffle = params['cv_shuffle']\n",
    "        except KeyError:\n",
    "            return\n",
    "\n",
    "        \n",
    "    @property\n",
    "    def params(self):\n",
    "        return self._params\n",
    "\n",
    "    @params.setter\n",
    "    def params(self, new_params):\n",
    "        self.fitness = self.calc_fitness(new_params)\n",
    "        self._params = new_params\n",
    "\n",
    "\n",
    "    ## Comparing operators\n",
    "    def __lt__(self, other):\n",
    "        # Define custom behavior for \"<\"\n",
    "        return self.fitness < other.fitness\n",
    "\n",
    "    def __le__(self, other):\n",
    "        # Define custom behavior for \"<=\"\n",
    "        return self.fitness <= other.fitness\n",
    "\n",
    "    def __ge__(self, other):\n",
    "        # Define custom behavior for \">=\"\n",
    "        return self.fitness >= other.fitness\n",
    "\n",
    "    def __eq__(self, other):\n",
    "        # Define custom behavior for \"==\"\n",
    "        return self.fitness == other.fitness\n",
    "\n",
    "    def __ne__(self, other):\n",
    "        # Define custom behavior for \"!=\"\n",
    "        return self.fitness != other.fitness\n",
    "    \n",
    "    def __len__(self):\n",
    "        return len(self.params.keys())\n",
    "    \n",
    "    def __repr__(self):\n",
    "        string = f'(Genome = Params : {self.params}, Fitness : {self.fitness})'\n",
    "        return string\n",
    "    \n",
    "    def extract(self, start, stop = None, step = 1):\n",
    "        \"\"\"\n",
    "        Just for ease of slicing\n",
    "        \n",
    "        Parameters\n",
    "        -----------------\n",
    "        key: Can be slice object\n",
    "        \"\"\"\n",
    "\n",
    "        if not stop: ## If stop == None, means only want extract one\n",
    "            return dict([list(self.params.items())[start]])\n",
    "            \n",
    "        elif stop > start and stop <= len(self):\n",
    "            \n",
    "            target = dict([list(self.params.items())[i] for i in range(start, stop, step)])\n",
    "            return target\n",
    "        else:\n",
    "            raise IndexError(f\"Index out of range.\")\n",
    "\n",
    "    \n",
    "    def calc_fitness(self, params):\n",
    "        \"\"\"\n",
    "        Parameters\n",
    "        -------------------\n",
    "        Takes in 1 genome/set of params\n",
    "        \"\"\"\n",
    "        results = []\n",
    "\n",
    "        cv_shuffle = self.cv if self.cv_shuffle else 1\n",
    "\n",
    "        kf = RepeatedKFold(n_splits = self.cv, n_repeats = cv_shuffle, random_state = 2)\n",
    "\n",
    "        for train, test in kf.split(self.X_train):\n",
    "            X_train, X_test, y_train, y_test = self.X_train.iloc[train], self.X_train.iloc[test], self.y_train.iloc[train], self.y_train.iloc[test]\n",
    "\n",
    "            model = clone(self.estimator)\n",
    "            model.set_params(**params)\n",
    "            model.fit(X_train, y_train)\n",
    "            y_pred = model.predict(X_test)\n",
    "            result = Evaluate()(y_test, y_pred, self.metric)\n",
    "            model = None\n",
    "            results += [result]\n",
    "\n",
    "        return statistics.mean(results)\n",
    "\n",
    "    \n",
    "    def mutate(self, param_grid, rate, verbose = False):\n",
    "        \"\"\"\"\n",
    "        Mutate one gene\n",
    "\n",
    "        Parameters\n",
    "        --------------------\n",
    "        choices: Param_grid for choosing\n",
    "        rate: Mutation rate/ Probability of one parameter undergoing mutation\n",
    "\n",
    "        Returns\n",
    "        -------------------\n",
    "        Returns new gene\n",
    "        \"\"\"\n",
    "        if verbose:\n",
    "            print(f'original: {self}')\n",
    "\n",
    "        length = len(self)\n",
    "        choices = list(range(0, length))\n",
    "        params = self.params.copy()\n",
    "        keys = list(params.keys())\n",
    "\n",
    "        for i in choices:\n",
    "            prob = random.random()\n",
    "            if prob < rate:   ## If 0 < prob and prob < rate, means falls under the possibility of mutating\n",
    "                key = keys[i]\n",
    "                target_val = params[key]\n",
    "                items = param_grid[key]\n",
    "                new_target_val = target_val\n",
    "\n",
    "                if isinstance(items, Categorical):\n",
    "                    if len(items) == 1:\n",
    "                        continue\n",
    "                else:\n",
    "                    while new_target_val == target_val:     ## Iterate until not the same \n",
    "                        new_target_val = items.sample()     ## Ok but i'm not sure if i should do this because sklearn didnt and it\n",
    "                                                            ## kind of ruins the sampling from a distribution purose\n",
    "\n",
    "                params[key] = new_target_val\n",
    "                if verbose:\n",
    "                    print(f\"After mutation: '{key}': '{new_target_val}'\")\n",
    "            else:\n",
    "                if verbose:\n",
    "                    print(f'No mutation.')\n",
    "                continue\n",
    "\n",
    "        new_gene = Genome(params)\n",
    "\n",
    "        return new_gene\n",
    "    \n",
    "\n",
    "\n",
    "    "
   ]
  },
  {
   "cell_type": "code",
   "execution_count": 6,
   "metadata": {},
   "outputs": [],
   "source": [
    "class Population():\n",
    "\n",
    "\n",
    "    def __init__(self, population = None, **params):\n",
    "\n",
    "        self.initialise_shared_var(**params)\n",
    "\n",
    "        if not population:  ## If no population\n",
    "            self._population = self.generate_pop()\n",
    "        else:\n",
    "            self._population = population\n",
    "\n",
    "    @classmethod\n",
    "    def initialise_shared_var(cls, **params):\n",
    "        \n",
    "        try:\n",
    "            cls.X_train = params['X_train']\n",
    "            cls.y_train = params['y_train']\n",
    "            cls.estimator = params['estimator']\n",
    "            cls.param_grid = params['param_grid']\n",
    "            cls.pop_size = params['pop_size']\n",
    "            cls.metric = params['metric']\n",
    "            cls.cv = params['cv']\n",
    "            cls.cv_shuffle = params['cv_shuffle']\n",
    "            cls.direction = params['direction']\n",
    "        except KeyError:\n",
    "            return\n",
    "\n",
    "    @property\n",
    "    def population(self):\n",
    "        return tim_sort(self._population, self.direction)\n",
    "    \n",
    "    @property\n",
    "    def get_fit(self):\n",
    "        \"\"\"\n",
    "        Helps to get list of fitness values\n",
    "        \"\"\"\n",
    "        fits = []\n",
    "        for i in self.population:\n",
    "            fits += [i.fitness]\n",
    "        return fits\n",
    "\n",
    "\n",
    "    @population.setter\n",
    "    def population(self, new_pop):\n",
    "        self._population = new_pop\n",
    "\n",
    "    ## Used this only for sorting so it's easier\n",
    "    def __getitem__(self, key):\n",
    "        if isinstance(key, int):\n",
    "            return self.population[key]\n",
    "        \n",
    "        elif isinstance(key, slice):\n",
    "            start, stop, step = key.indices(self.n)\n",
    "            target = [self.population[i] for i in range(start, stop, step)]\n",
    "            return target\n",
    "        else:\n",
    "            raise TypeError(f\"Invalid Argument type. Must be int or slice.\")\n",
    "        \n",
    "    def __repr__(self):\n",
    "        string = \"\"\n",
    "        for genome in self.population:\n",
    "            string += f'{genome}\\n'\n",
    "        return string\n",
    "        \n",
    "    def copy(self):\n",
    "        \"\"\"\n",
    "        Makes a copy of the current generation\n",
    "        \"\"\"\n",
    "        pop_copy = [genome for genome in self.population]\n",
    "        return Population(pop_copy)\n",
    "            \n",
    "    \n",
    "    def calc_avg_fit(self):\n",
    "        \"\"\"\n",
    "        For adaptive Mutation\n",
    "        \"\"\"\n",
    "        fits = self.get_fit\n",
    "        return statistics.mean(fits)\n",
    "\n",
    "\n",
    "    def generate_pop(self):\n",
    "        random.seed(3)\n",
    "        \"\"\"\n",
    "        To initialize population\n",
    "\n",
    "        Parameters\n",
    "        --------------\n",
    "        n: Number of Genomes\n",
    "\n",
    "        Returns\n",
    "        ---------------\n",
    "        None\n",
    "\n",
    "        \"\"\"\n",
    "        genome_attributes = {\n",
    "            'X_train': self.X_train,\n",
    "            'y_train': self.y_train,\n",
    "            'estimator': self.estimator,\n",
    "            'metric': self.metric,\n",
    "            'cv': self.cv,\n",
    "            'cv_shuffle': self.cv_shuffle\n",
    "        }\n",
    "        \n",
    "        pop = []\n",
    "        for i in range(self.pop_size):\n",
    "            params = {}\n",
    "            for key in self.param_grid.parameters:\n",
    "                params[key] = self.param_grid[key].sample()\n",
    "            new_genome = Genome(params, **genome_attributes)\n",
    "            pop += [new_genome]\n",
    "        return pop\n",
    "\n",
    "\n",
    "    def elitism(self, n):\n",
    "        \"\"\"\n",
    "        To choose which n Genomes to bring over to next gen\n",
    "\n",
    "        Parameters\n",
    "        ------------------\n",
    "        n: prop of Genomes, default 0.2 of population\n",
    "\n",
    "        Returns\n",
    "        -----------------\n",
    "        Top n Genomes\n",
    "        \"\"\"\n",
    "        if not 0 < n < 1:\n",
    "            raise ValueError(\"n must be between 0 and 1\")\n",
    "        n = round(n*self.pop_size)\n",
    "        top_n = self.population[0:n]\n",
    "\n",
    "        return top_n\n",
    "\n",
    "\n",
    "    def n_cross_over(self, genes, n, nco_rate = 0.5, verbose = False):\n",
    "        \"\"\"\n",
    "        To cross over 2 genomes\n",
    "        \n",
    "        Parameters\n",
    "        ------------------------\n",
    "        genes: (a,b) Cross over genomes in pop[a] and pop[b]\n",
    "        n: Number of points to cross over\n",
    "        verbose: Illustrate parents to genomes\n",
    "        nco_rate: Cross over rate/ Probability of genes undergoing crossover\n",
    "            -> If rate = 0: None of the genes can undergo mutation\n",
    "            -> If rate = 1: All of the genes can undergo mutation\n",
    "        \n",
    "        Returns\n",
    "        ----------------------\n",
    "        2 Genomes, Crossed over, not in place\n",
    "        \"\"\"\n",
    "        a,b = genes\n",
    "        a = int(a)\n",
    "        b = int(b)\n",
    "        gene1 = self.population[a]\n",
    "        gene2 = self.population[b]\n",
    "\n",
    "        len1 = len(gene1)\n",
    "        len2 = len(gene2)\n",
    "        if len1 != len2:\n",
    "            raise ValueError(\"Genomes must be of same length\")\n",
    "        \n",
    "        if len1 < 2:\n",
    "            raise Exception(\"Too short!\")\n",
    "        \n",
    "        if n >= len1 -1:\n",
    "            raise Exception(f\"Too much cross-over points. Maximum is {len1-1}.\")\n",
    "\n",
    "        prob = random.random()\n",
    "\n",
    "        if prob > nco_rate:  \n",
    "            if verbose:\n",
    "                print(\"p value = %.5f is more than %f. No cross over.\" %(prob, nco_rate))\n",
    "            return [gene1, gene2]\n",
    "\n",
    "        choices = list(range(1,len1))\n",
    "        idx = list(np.random.choice(choices, size = n, replace = False))\n",
    "        idxs = tim_sort(idx + [0, len1], dir = 0) \n",
    "        sections = n+1\n",
    "        params3 = {}\n",
    "        params4 = {}\n",
    "\n",
    "        for i in range(sections):\n",
    "            ## Even\n",
    "            if i%2 == 0:\n",
    "                params33 = gene1.extract(idxs[i], idxs[i+1])\n",
    "                params44 = gene2.extract(idxs[i], idxs[i+1])\n",
    "                \n",
    "                    \n",
    "            ## Odd\n",
    "            else:\n",
    "                params33 = gene2.extract(idxs[i], idxs[i+1])\n",
    "                params44 = gene1.extract(idxs[i], idxs[i+1])\n",
    "            \n",
    "            params3 = merge_dicts(params3, params33)\n",
    "            params4 = merge_dicts(params4, params44)\n",
    "                \n",
    "        gene3 = Genome(params3)\n",
    "        gene4 = Genome(params4)\n",
    "\n",
    "        if verbose:\n",
    "            print(f'------------Parent Genomes------------\\n{gene1}\\n{gene2}\\n')\n",
    "            print(f'After {n}-point(s) crossover at index(es) : {idx}\\n')\n",
    "            print(f'------------Children Genomes-------------\\n{gene3}\\n{gene4}\\n')\n",
    "            print('================================================')\n",
    "\n",
    "        return [gene3, gene4]\n",
    "\n",
    "\n",
    "    def selection(self, n, subset = None):\n",
    "        \"\"\"\"\n",
    "        Purpose:\n",
    "        Helps n_cross_over by choosing what 2 genomes to put in\n",
    "        \n",
    "        Input:\n",
    "        'n': Number of parent pairs\n",
    "        'subset': [low,high) Genes in population to select from eg. gene index 4:7 (exclusive)\n",
    "\n",
    "        Output:\n",
    "        List of tuples of indexes: [ (parent1,parent2) ,(parent3, parent4)]\n",
    "        \"\"\"\n",
    "        if not subset:\n",
    "            low, high = (0, self.pop_size)\n",
    "            size = self.pop_size\n",
    "        else:\n",
    "            low, high = subset\n",
    "            size = high -low \n",
    "\n",
    "        max = math.comb(size, 2)\n",
    "        if n > max:\n",
    "            raise ValueError(f'Too much combinations. Maximum is {max}')\n",
    "\n",
    "        pairs = []\n",
    "        choices = list(range(low, high))\n",
    "        fits = self.get_fit[low:high]\n",
    "        p = [i/sum(fits) for i in fits]\n",
    "\n",
    "        for i in range(n):\n",
    "            parent1, parent2 = random.choice(choices, p = p, size = 2, replace = False)\n",
    "            pairs += [(parent1, parent2)]\n",
    "        \n",
    "        return pairs\n",
    "    \n",
    "    def fitness_mutation_rate(self, k, f_max, f_avg, f):\n",
    "        \"\"\"\n",
    "        Purpose:\n",
    "        Fitness-based adaptive mutation\n",
    "\n",
    "        Input:\n",
    "        k: (k1,k2) Tuple of 2 for constant, k1,k2 in (0,1)\n",
    "        f_max: Maximum fitness of population\n",
    "        f_avg: Average fitness of population\n",
    "        f: Current fitness value of Genome\n",
    "        \n",
    "        Output:\n",
    "        rate -> int\n",
    "        \"\"\"\n",
    "        k1, k2 = k\n",
    "        # print(f'k: {k}, f_max; {f_max}, f_avg: {f_avg}, f: {f}')\n",
    "        \n",
    "        if f >= f_avg:      ## High quality solution\n",
    "            rate = k1*( (f_max - f)/(f_max-f_avg) )\n",
    "        else:               ## Low quality solution\n",
    "            rate = k2\n",
    "        return rate\n",
    "\n",
    "    def rank_mutation_rate(self, p_max, r, n):\n",
    "        \"\"\"\"\n",
    "        Purpose:\n",
    "        Rank-based adaptive mutation\n",
    "        \n",
    "        Input:\n",
    "        p_max: Maximum mutation probability\n",
    "        r: Rank of chromosome\n",
    "        n: population size\n",
    "\n",
    "        Output:\n",
    "        rate -> int\n",
    "        \"\"\"\n",
    "        p = p_max*( 1- (r-1)/(n-1))\n",
    "        return p\n",
    "\n",
    "    def mutation(self, type, params, verbose = False, inplace = True):\n",
    "        \"\"\"\n",
    "        Purpose:\n",
    "        Randomly select from population without replacement and mutate\n",
    "\n",
    "        Input:\n",
    "        type: 'fitneses', 'random', 'rank'\n",
    "            Default\n",
    "            - 'fitness' : k = (k1,k2) = (0.05,0.06)\n",
    "            - 'random': rate = 0.5\n",
    "            -'rank': p_max = 0.08\n",
    "        inplace: Mutate on spot\n",
    "\n",
    "        Output:\n",
    "        Population with mutated genes, inplace\n",
    "\n",
    "        Warning:\n",
    "        Self.population has to be SORTED\n",
    "        \"\"\"\n",
    "        f_max = max(self.get_fit)\n",
    "        f_avg = self.calc_avg_fit()\n",
    "        new_pop = []\n",
    "\n",
    "        subset = self.population\n",
    "        ## Iterate through all the genome\n",
    "        for index, gene in enumerate(subset):\n",
    "            if type == 'fitness':\n",
    "                k = params['k']\n",
    "                rate = self.fitness_mutation_rate(k, f_max, f_avg, f = gene.fitness)\n",
    "\n",
    "            elif type == 'rank':\n",
    "                r = index\n",
    "                n = self.pop_size\n",
    "                p_max = params['p_max']\n",
    "                rate = self.rank_mutation_rate(p_max, r, n)\n",
    "\n",
    "            elif type == 'random':\n",
    "                rate = params['rate']\n",
    "\n",
    "            else:\n",
    "                raise ValueError(\"No such mutation type.\")\n",
    "            \n",
    "            new_gene = gene.mutate(self.param_grid, rate)\n",
    "            new_pop += [new_gene]\n",
    "        \n",
    "        if inplace:\n",
    "            self.population = new_pop\n",
    "            new_pop = self\n",
    "        else:\n",
    "            new_pop = Population(new_pop)\n",
    "\n",
    "        return new_pop\n",
    "    \n",
    "    def best_solution(self):\n",
    "        return self.population[0]\n",
    "\n"
   ]
  },
  {
   "cell_type": "code",
   "execution_count": 7,
   "metadata": {},
   "outputs": [],
   "source": [
    "class GenomeGrid():\n",
    "    \"\"\"\n",
    "    Parameters\n",
    "    -------------------\n",
    "    est: Model\n",
    "    param_grid: Parameters\n",
    "    max_evol: Max evolution\n",
    "    pop_size: Population size\n",
    "    mutation_type: 'fitneses', 'random', 'rank'\n",
    "\n",
    "    optional:\n",
    "    cross_valid\n",
    "    scoring: Evaluation criteria -> need to change!!!\n",
    "    elitism: Prop of population for elitism, default = 0.2\n",
    "    cross_over_rate/nco_rate: Default = 0.5\n",
    "    type: 'fitness', 'random', 'rank'\n",
    "        Default\n",
    "        - 'fitness' : k = (k1,k2) = (0.05,0.06)\n",
    "        - 'random': rate = 0.5\n",
    "        -'rank': p_max = 0.08\n",
    "    direction: \"maximize\", \"minimize\"\n",
    "\n",
    "    Attributes\n",
    "    ----------------------\n",
    "    X_train, y_train, X_test, y_test\n",
    "    best_hyperparameters\n",
    "    problem_type: Regression/Classification\n",
    "\n",
    "    \n",
    "    \"\"\"\n",
    "\n",
    "\n",
    "    def __init__(\n",
    "            self, \n",
    "            X, \n",
    "            y, \n",
    "            est, \n",
    "            parameters_grid, \n",
    "            cv = 5, \n",
    "            cv_shuffle = False, \n",
    "            max_evol = 100, \n",
    "            pop_size = 10, \n",
    "            mutation_type = 'rank', \n",
    "            scoring = 'recall', \n",
    "            el_prop = 0.2, \n",
    "            nco_rate = 0.5, \n",
    "            direction = \"maximize\",\n",
    "            **params):\n",
    "\n",
    "        self.estimator = est\n",
    "        self.param_grid = Space(parameters_grid)\n",
    "        self.max_evol = max_evol\n",
    "        self.pop_size = pop_size\n",
    "        self.mutation_type = mutation_type\n",
    "        self.metric = scoring\n",
    "        self.el_prop = el_prop\n",
    "        self.nco_rate = nco_rate\n",
    "        self.best_hyperparameters = None\n",
    "        self.cv = cv\n",
    "        self.cv_shuffle = cv_shuffle\n",
    "        self.direction = 1 if direction == \"maximize\" else 0\n",
    "        \n",
    "        \n",
    "        ## For evaluation function\n",
    "        Evaluate.initialise(y = y)\n",
    "\n",
    "        X_train, X_test, y_train, y_test = train_test_split(X, y, test_size = 0.4, random_state = 123)\n",
    "        self.X_train = X_train\n",
    "        self.y_train = y_train\n",
    "        self.X_test = X_test\n",
    "        self.y_test = y_test\n",
    "\n",
    "        if mutation_type == 'fitness':\n",
    "            self.mutation_para = {'k': params.get('k', (0.05, 0.06))}\n",
    "        elif mutation_type == 'random':\n",
    "            self.mutation_para = {'rate': params.get('rate', 0.5)}\n",
    "        elif mutation_type == 'rank':\n",
    "            self.mutation_para = {'p_max': params.get('p_max', 0.08)}\n",
    "        else:\n",
    "            raise Exception('No such mutation type')\n",
    "\n",
    "    @property\n",
    "    def best_model(self):\n",
    "        best_est = joblib.load('best_estimator.pkl')\n",
    "        return best_est\n",
    "\n",
    "\n",
    "    @property\n",
    "    def history(self):\n",
    "        history_log = joblib.load('history.pkl')\n",
    "        return history_log\n",
    "\n",
    "\n",
    "    def fit(self, early_term = True, early_term_thresh = 0.0001, log = True, refit = True, verbose = False):\n",
    "        \"\"\"\n",
    "        Main function to fit\n",
    "        \n",
    "        Parameters\n",
    "        ------------------------\n",
    "        early_term: terminatate algorithms early, when flag >= 10\n",
    "        early_term_threshold: Flag += 1\n",
    "        refit: Auto fit to best model\n",
    "        verbose: True will also activate log (Write history in the file)\n",
    "\n",
    "\n",
    "        \"\"\"\n",
    "        ## For early term: flag += 1 when change <= thresh\n",
    "        if early_term:\n",
    "            flag = 0\n",
    "        \n",
    "        \n",
    "        start = time.time()\n",
    "        \n",
    "        population_attributes = {\n",
    "            \"X_train\": self.X_train,\n",
    "            \"y_train\": self.y_train,\n",
    "            \"X_test\": self.X_test,\n",
    "            \"y_test\": self.y_test,\n",
    "            \"estimator\": self.estimator,\n",
    "            \"param_grid\": self.param_grid,\n",
    "            \"pop_size\": self.pop_size,\n",
    "            \"metric\": self.metric,\n",
    "            \"cv\": self.cv,\n",
    "            \"cv_shuffle\": self.cv_shuffle,\n",
    "            \"direction\": self.direction\n",
    "        }\n",
    "        \n",
    "        pop = Population(**population_attributes)\n",
    "\n",
    "        ## For history\n",
    "        gen = []\n",
    "        fitness = []\n",
    "        fitnessMin = []\n",
    "        fitnessMax = []\n",
    "\n",
    "        ## For logging\n",
    "        if verbose:\n",
    "            string = \"Gen\\t\\tFitness\\t\\tFitnessMin\\t\\tFitnessMax\\n\"\n",
    "            with open(log_file, 'w') as log:\n",
    "                log.write(string)\n",
    "            print(string)\n",
    "            \n",
    "\n",
    "        for i in range(self.max_evol):\n",
    "\n",
    "            ## Early termination\n",
    "            if early_term:\n",
    "                if flag >= 10:\n",
    "                    break\n",
    "\n",
    "            ## Elitism: Choose top t\n",
    "            top_t = pop.elitism(self.el_prop)\n",
    "            parent_pairs = self.pop_size - len(top_t)\n",
    "\n",
    "            ## Selection: Make a list of tuple pairs for crossover from subset\n",
    "            parent_pairs = pop.selection(parent_pairs)\n",
    "\n",
    "            ## Cross Over subset\n",
    "            children = []\n",
    "            for pair in parent_pairs:\n",
    "                child = pop.n_cross_over(pair, 1, self.nco_rate, verbose)\n",
    "                children += child\n",
    "            \n",
    "            pop = top_t + children\n",
    "            pop = Population(pop)\n",
    "            \n",
    "            ## Mutate everything, including those carried over by elitism\n",
    "            pop.mutation(self.mutation_type, self.mutation_para, verbose = verbose)\n",
    "\n",
    "            ## For log/History\n",
    "            mini = pop.get_fit[0]\n",
    "            maxi = pop.get_fit[-1]\n",
    "            avg = pop.calc_avg_fit()\n",
    "            \n",
    "            gen.append(i)\n",
    "            fitness.append(avg)\n",
    "            fitnessMin.append(mini)\n",
    "            fitnessMax.append(maxi)\n",
    "\n",
    "            if early_term:\n",
    "                if i >= 1:\n",
    "                    if abs( avg - fitness[-1] ) < early_term_thresh:\n",
    "                        flag += 1\n",
    "                    else:\n",
    "                        flag = 0\n",
    "\n",
    "        \n",
    "            if verbose:\n",
    "                string = f'{i}\\t{avg}\\t{mini}\\t{maxi}\\n'\n",
    "                with open(log_file, \"a\") as log:\n",
    "                    log.write(string)\n",
    "                print(string)\n",
    "\n",
    "\n",
    "\n",
    "        best = pop.best_solution()\n",
    "        self.best_hyperparameters = best.params\n",
    "        history = {'gen':gen, 'fitness':fitness, 'FitnessMin': fitnessMin, 'fitnessMax': fitnessMax}\n",
    "        joblib.dump(history, 'history.pkl')\n",
    "\n",
    "        if refit:\n",
    "            model = clone(self.estimator)\n",
    "            model.set_params(**self.best_hyperparameters)\n",
    "            model.fit(self.X_train, self.y_train)\n",
    "            joblib.dump(model, 'best_estimator.pkl')\n",
    "\n",
    "        end = time.time()\n",
    "        self.time_taken = end-start\n",
    "        \n",
    "        return best\n",
    "\n",
    "\n",
    "\n",
    "    def compare(self, param_grid_search, param_grid_ga, plot = True):\n",
    "        if not self.time_taken:\n",
    "            raise Exception('Model not fitted yet!')\n",
    "        \n",
    "        pred = self.best_model.predict(self.X_test)\n",
    "        cur_result = round(Evaluate()(self.y_test, pred, self.metric),5)\n",
    "\n",
    "        # print(classification_report(self.y_test, pred))\n",
    "\n",
    "        \n",
    "        scoring = make_scorer(Evaluate(), metric = self.metric, greater_is_better = bool(self.direction))\n",
    "\n",
    "        ## sklearn's Genetic Algo\n",
    "        start = time.time()\n",
    "        model_ga = clone(self.estimator)\n",
    "        model_ga = GASearchCV(estimator = model_ga, param_grid = param_grid_ga, verbose = False, scoring = scoring, population_size = self.pop_size, generations = self.max_evol-1)\n",
    "        model_ga.fit(self.X_train, self.y_train)\n",
    "        end= time.time()\n",
    "        time_ga = end - start\n",
    "\n",
    "        pred = model_ga.predict(self.X_test)\n",
    "        ga_result = round(Evaluate()(self.y_test, pred, self.metric),5)\n",
    "\n",
    "        # print(classification_report(self.y_test, pred))\n",
    "\n",
    "\n",
    "        ## sklearn's GridSearch\n",
    "        start = time.time()\n",
    "        model_gs = clone(self.estimator)\n",
    "        model_gs = GridSearchCV(estimator = model_gs, param_grid = param_grid_search, scoring = scoring , return_train_score = True)\n",
    "        model_gs.fit(self.X_train, self.y_train)\n",
    "        end = time.time()\n",
    "        time_gs = end - start\n",
    "        \n",
    "        pred = model_gs.predict(self.X_test)\n",
    "        gs_result = Evaluate()(self.y_test, pred, self.metric)\n",
    "\n",
    "        # print(classification_report(self.y_test, pred))\n",
    "\n",
    "        ## optuna\n",
    "        def op(trial):\n",
    "            params = {\n",
    "                'kernel': trial.suggest_categorical('kernel', ['linear','poly']),\n",
    "                'C': trial.suggest_float('C', 0, 1),\n",
    "                'gamma': trial.suggest_float('gamma', 0, 1)\n",
    "            }\n",
    "\n",
    "            model = clone(self.estimator)\n",
    "            model.set_params(**params)\n",
    "            model.fit(self.X_train,self.y_train)\n",
    "            pred = model.predict(self.X_test)\n",
    "            result = round(Evaluate()(self.y_test, pred, self.metric),5)\n",
    "\n",
    "            return result\n",
    "\n",
    "        start = time.time()\n",
    "        optuna.logging.disable_default_handler()\n",
    "        direction = \"maximize\" if self.direction == 1 else \"minimize\"\n",
    "        model_op = optuna.create_study(direction = direction)\n",
    "        model_op.optimize(op, n_trials = self.max_evol)\n",
    "        end = time.time()\n",
    "        time_op = end - start\n",
    "\n",
    "        model_optuna = clone(self.estimator)\n",
    "        model_optuna.set_params(**model_op.best_trial.params)\n",
    "        model_optuna.fit(self.X_train, self.y_train)\n",
    "        pred = model_optuna.predict(self.X_test)\n",
    "        op_result = round(Evaluate()(self.y_test, pred, self.metric),5)\n",
    "\n",
    "        # print(classification_report(self.y_test, pred))\n",
    "\n",
    "\n",
    "\n",
    "\n",
    "        table = [[\"         \", \"My GASearch\", \"sklearn GASearch\", \"sklearn GridSearchCV\", \"Optuna\"],\n",
    "                 [\"Test \" + self.metric, cur_result, ga_result, gs_result, op_result],\n",
    "                 [\"Time Taken\", self.time_taken, time_ga, time_gs, time_op]]\n",
    "\n",
    "        print(tabulate(table, headers = \"firstrow\", tablefmt=\"github\"))\n",
    "\n",
    "        print(f'My GASearch: {self.best_hyperparameters}\\nSklearn GASearchCV: {model_ga.best_params_}\\nSklearn GridSearchCV: {model_gs.best_params_}\\nOptuna: {model_op.best_params}\\n')\n",
    "\n",
    "        if plot:\n",
    "            y1 = self.history['fitness']\n",
    "            y2 = [ abs(i) for i in model_ga.history['fitness'] ]\n",
    "            y3 = [abs(i) for i in list(model_gs.cv_results_['mean_train_score'])]\n",
    "            trials = model_op.get_trials()\n",
    "            y4 = [trial.value for trial in trials if trial.state == optuna.trial.TrialState.COMPLETE and trial.value is not None]\n",
    "\n",
    "\n",
    "            x = list(range(self.max_evol))\n",
    "            n = max(len(y2), len(y3))\n",
    "\n",
    "            fig = go.Figure()\n",
    "\n",
    "            fig.add_trace(go.Scatter(x = x[:len(y1)], y = y1, name = \"My GASearch\", mode = 'lines'))\n",
    "            fig.add_trace(go.Scatter(x = x, y = y2, name = \"Sklearn GASearchCV\", mode = 'lines'))\n",
    "            fig.add_trace(go.Scatter(x = x[:n], y = y3[:n], name = \"Sklearn GridSearchCV\", mode = 'lines'))\n",
    "            fig.add_trace(go.Scatter(x = x[:n], y = y4, name = \"Optuna\", mode = 'lines'))\n",
    "\n",
    "            fig.show()\n",
    "            \n",
    "\n",
    "        return\n",
    "\n",
    "\n",
    "\n",
    "\n"
   ]
  },
  {
   "cell_type": "markdown",
   "metadata": {},
   "source": [
    "<font size = 6> Parameter Grid </font><br>\n",
    "Remember to change model for optuna because idk how to clone of it\n",
    "- to clone:\n",
    "intialise new trial and copy frozentrial parameters\n"
   ]
  },
  {
   "cell_type": "code",
   "execution_count": 4,
   "metadata": {},
   "outputs": [],
   "source": [
    "from space import Categorical, Integer, Continuous\n",
    "from sklearn_genetic import space\n",
    "\n",
    "param_grid = {'kernel': Categorical(['linear','poly']),\n",
    "                        'C': Continuous(0,1),\n",
    "                        'gamma': Continuous(0,1)}\n",
    "\n",
    "param_grid_ga = {'kernel': space.Categorical(['linear','poly']),\n",
    "                        'C': space.Continuous(0,1),\n",
    "                        'gamma': space.Continuous(0,1)}\n",
    "\n",
    "param_grid_search = {'kernel': ['linear','poly'],\n",
    "                     'C': [random.uniform(0,1) for i in range(10)],\n",
    "                     'gamma': [random.uniform(0,1) for i in range(10)]}\n",
    "\n",
    "\n"
   ]
  },
  {
   "cell_type": "markdown",
   "metadata": {},
   "source": [
    "<font size = 10> Iris Dataset </font>"
   ]
  },
  {
   "cell_type": "markdown",
   "metadata": {},
   "source": [
    "<font size = 6> Classification </font>"
   ]
  },
  {
   "cell_type": "code",
   "execution_count": null,
   "metadata": {},
   "outputs": [],
   "source": [
    "from sklearn import svm\n",
    "from sklearn.datasets import load_iris\n",
    "from sklearn.model_selection import train_test_split\n",
    "\n",
    "\n",
    "df = load_iris(as_frame = True)\n",
    "X = df.data\n",
    "y = df.target\n",
    "\n",
    "\n",
    "model = svm.SVC()\n",
    "\n",
    "pop = GenomeGrid(X,y,model, param_grid, scoring = \"accuracy\")\n",
    "pop.fit(log = False, verbose = False)"
   ]
  },
  {
   "cell_type": "code",
   "execution_count": 10,
   "metadata": {},
   "outputs": [],
   "source": [
    "pop.compare(param_grid_search, param_grid_ga)"
   ]
  },
  {
   "cell_type": "markdown",
   "metadata": {},
   "source": [
    "<font size = 6> Regression </font>\n",
    "- Predicting sepal length (cm)"
   ]
  },
  {
   "cell_type": "code",
   "execution_count": 12,
   "metadata": {},
   "outputs": [
    {
     "data": {
      "text/plain": [
       "sepal width (cm)     float64\n",
       "petal length (cm)    float64\n",
       "petal width (cm)     float64\n",
       "target                 int32\n",
       "dtype: object"
      ]
     },
     "execution_count": 12,
     "metadata": {},
     "output_type": "execute_result"
    }
   ],
   "source": [
    "from sklearn import svm\n",
    "from sklearn.datasets import load_iris\n",
    "from sklearn.model_selection import train_test_split\n",
    "\n",
    "\n",
    "df = load_iris(as_frame = True)\n",
    "X = pd.concat([df.data['sepal width (cm)'], df.data['petal length (cm)'], df.data['petal width (cm)'], df.target], axis = 1)\n",
    "y = df.data['sepal length (cm)']\n",
    "X.dtypes"
   ]
  },
  {
   "cell_type": "code",
   "execution_count": 13,
   "metadata": {},
   "outputs": [
    {
     "name": "stdout",
     "output_type": "stream",
     "text": [
      "Registering as a regression problem\n"
     ]
    },
    {
     "data": {
      "text/plain": [
       "(Genome = Params : {'kernel': 'linear', 'C': 0.9554443732402788, 'gamma': 0.9476891762456331}, Fitness : 0.10920405229316336)"
      ]
     },
     "execution_count": 13,
     "metadata": {},
     "output_type": "execute_result"
    }
   ],
   "source": [
    "from sklearn import svm\n",
    "from sklearn.datasets import load_iris\n",
    "from sklearn.model_selection import train_test_split\n",
    "\n",
    "\n",
    "df = load_iris(as_frame = True)\n",
    "X = pd.concat([df.data['sepal width (cm)'], df.data['petal length (cm)'], df.data['petal width (cm)'], df.target], axis = 1)\n",
    "y = df.data['sepal length (cm)']\n",
    "\n",
    "\n",
    "model = svm.SVR()\n",
    "\n",
    "pop = GenomeGrid(X,y,model, param_grid, scoring = \"mse\", direction = \"minimize\")\n",
    "pop.fit(log = False, verbose = False)"
   ]
  },
  {
   "cell_type": "code",
   "execution_count": 14,
   "metadata": {},
   "outputs": [
    {
     "name": "stdout",
     "output_type": "stream",
     "text": [
      "|             |   My GASearch |   sklearn GASearch |   sklearn GridSearchCV |   Optuna |\n",
      "|-------------|---------------|--------------------|------------------------|----------|\n",
      "| Test mse    |       0.09645 |            0.09644 |                0.10108 |  0.09644 |\n",
      "| Time Taken  |      30.6471  |          184.528   |               59.8117  |  5.94848 |\n",
      "My GASearch: {'kernel': 'linear', 'C': 0.9554443732402788, 'gamma': 0.9476891762456331}\n",
      "Sklearn GASearchCV: {'kernel': 'linear', 'C': 0.9670930721109097, 'gamma': 0.16301479037626254}\n",
      "Sklearn GridSearchCV: {'C': 0.3344498161590138, 'gamma': 0.9469005754123647, 'kernel': 'linear'}\n",
      "Optuna: {'kernel': 'linear', 'C': 0.9092759901116837, 'gamma': 0.9059978679289665}\n",
      "\n"
     ]
    },
    {
     "data": {
      "application/vnd.plotly.v1+json": {
       "config": {
        "plotlyServerURL": "https://plot.ly"
       },
       "data": [
        {
         "mode": "lines",
         "name": "My GASearch",
         "type": "scatter",
         "x": [
          0,
          1,
          2,
          3,
          4,
          5,
          6,
          7,
          8,
          9,
          10
         ],
         "y": [
          0.11616477930151786,
          0.1116841464396812,
          0.11071533372839436,
          0.11031595497647162,
          0.11016770128536385,
          0.10972294021204056,
          0.10920405229316336,
          0.10920405229316336,
          0.11168070570275163,
          0.10920405229316336,
          0.10920405229316336
         ]
        },
        {
         "mode": "lines",
         "name": "Sklearn GASearchCV",
         "type": "scatter",
         "x": [
          0,
          1,
          2,
          3,
          4,
          5,
          6,
          7,
          8,
          9,
          10,
          11,
          12,
          13,
          14,
          15,
          16,
          17,
          18,
          19,
          20,
          21,
          22,
          23,
          24,
          25,
          26,
          27,
          28,
          29,
          30,
          31,
          32,
          33,
          34,
          35,
          36,
          37,
          38,
          39,
          40,
          41,
          42,
          43,
          44,
          45,
          46,
          47,
          48,
          49,
          50,
          51,
          52,
          53,
          54,
          55,
          56,
          57,
          58,
          59,
          60,
          61,
          62,
          63,
          64,
          65,
          66,
          67,
          68,
          69,
          70,
          71,
          72,
          73,
          74,
          75,
          76,
          77,
          78,
          79,
          80,
          81,
          82,
          83,
          84,
          85,
          86,
          87,
          88,
          89,
          90,
          91,
          92,
          93,
          94,
          95,
          96,
          97,
          98,
          99
         ],
         "y": [
          0.1410827627024708,
          0.13065284036241542,
          0.12149140097272859,
          0.1213758395043623,
          0.12134843514027197,
          0.12133938231347285,
          0.12132801755013656,
          0.12132325608645063,
          0.12131876264899288,
          0.12131643627353994,
          0.12131759946126638,
          0.12131178352263401,
          0.12130945714718104,
          0.12130829395945457,
          0.12144043622232134,
          0.12131283902604366,
          0.12130829395945457,
          0.12130829395945457,
          0.12130829395945457,
          0.12273693789441398,
          0.1214059669095801,
          0.12131227166490303,
          0.12131588463738485,
          0.12130829395945457,
          0.12130829395945457,
          0.12130829395945457,
          0.12130829395945457,
          0.12131159918142909,
          0.12131378083118818,
          0.12131634080001416,
          0.12131634080001419,
          0.12130829395945457,
          0.12130829395945457,
          0.12404767789924405,
          0.12130829395945457,
          0.12130829395945457,
          0.12130829395945457,
          0.12132002992859674,
          0.12143909111822895,
          0.12131195796046494,
          0.12131272328865308,
          0.12130829395945457,
          0.12130829395945457,
          0.12130829395945457,
          0.12130829395945457,
          0.12130829395945457,
          0.12130829395945457,
          0.12130829395945457,
          0.12130829395945457,
          0.1214864331888765,
          0.12130829395945457,
          0.12130829395945457,
          0.12130829395945457,
          0.12130829395945457,
          0.12130829395945457,
          0.12145803203011933,
          0.12130829395945457,
          0.12130829395945457,
          0.12130829395945457,
          0.12130829395945457,
          0.12130829395945457,
          0.12130829395945457,
          0.12148484271525921,
          0.12130829395945457,
          0.12130829395945457,
          0.12130829395945457,
          0.12130829395945457,
          0.12148048973992935,
          0.12130829395945457,
          0.12144042177655481,
          0.12130829395945457,
          0.12140979505026332,
          0.12130829395945457,
          0.12130829395945457,
          0.12130829395945457,
          0.12131664524363932,
          0.12130829395945457,
          0.12356515203364307,
          0.12130829395945457,
          0.1230648525553811,
          0.12130829395945457,
          0.12131505100905296,
          0.12131323464627826,
          0.12130829395945457,
          0.12130829395945457,
          0.12130829395945457,
          0.12130829395945457,
          0.12321787642168862,
          0.12130829395945457,
          0.12130829395945457,
          0.12130829395945457,
          0.12130829395945457,
          0.12130829395945457,
          0.12131369037599962,
          0.12131297105570257,
          0.12130829395945457,
          0.12130829395945457,
          0.12130829395945457,
          0.12131143057280244,
          0.12130829395945457
         ]
        },
        {
         "mode": "lines",
         "name": "Sklearn GridSearchCV",
         "type": "scatter",
         "x": [
          0,
          1,
          2,
          3,
          4,
          5,
          6,
          7,
          8,
          9,
          10,
          11,
          12,
          13,
          14,
          15,
          16,
          17,
          18,
          19,
          20,
          21,
          22,
          23,
          24,
          25,
          26,
          27,
          28,
          29,
          30,
          31,
          32,
          33,
          34,
          35,
          36,
          37,
          38,
          39,
          40,
          41,
          42,
          43,
          44,
          45,
          46,
          47,
          48,
          49,
          50,
          51,
          52,
          53,
          54,
          55,
          56,
          57,
          58,
          59,
          60,
          61,
          62,
          63,
          64,
          65,
          66,
          67,
          68,
          69,
          70,
          71,
          72,
          73,
          74,
          75,
          76,
          77,
          78,
          79,
          80,
          81,
          82,
          83,
          84,
          85,
          86,
          87,
          88,
          89,
          90,
          91,
          92,
          93,
          94,
          95,
          96,
          97,
          98,
          99
         ],
         "y": [
          0.09891275384287042,
          0.07902470128597464,
          0.09891275384287042,
          0.08611939746211361,
          0.09891275384287042,
          0.07885749662979105,
          0.09891275384287042,
          0.09334175723786135,
          0.09891275384287042,
          0.07905593658579993,
          0.09891275384287042,
          0.08598797812749272,
          0.09891275384287042,
          0.07875110652083032,
          0.09891275384287042,
          0.07889958672316469,
          0.09891275384287042,
          0.08448569143919243,
          0.09891275384287042,
          0.14086405719842404,
          0.10148094842106994,
          0.07921481415520472,
          0.10148094842106994,
          0.08740313740291085,
          0.10148094842106994,
          0.07910881916112643,
          0.10148094842106994,
          0.09394240293629652,
          0.10148094842106994,
          0.07926645039609381,
          0.10148094842106994,
          0.08719917970485244,
          0.10148094842106994,
          0.07919267584497247,
          0.10148094842106994,
          0.07945868950635977,
          0.10148094842106994,
          0.08601771018922603,
          0.10148094842106994,
          0.15009136583395796,
          0.09629896921095549,
          0.07894253265162511,
          0.09629896921095549,
          0.08255318440781928,
          0.09629896921095549,
          0.0786582731688583,
          0.09629896921095549,
          0.09225542906717953,
          0.09629896921095549,
          0.07896504022340517,
          0.09629896921095549,
          0.0823770312196129,
          0.09629896921095549,
          0.07899079931861099,
          0.09629896921095549,
          0.07915132051238079,
          0.09629896921095549,
          0.08115676489332088,
          0.09629896921095549,
          0.13017427332668688,
          0.0965543319105041,
          0.07890991603287512,
          0.0965543319105041,
          0.08405446726008448,
          0.0965543319105041,
          0.07892228045705743,
          0.0965543319105041,
          0.09265837391631455,
          0.0965543319105041,
          0.07897459830279294,
          0.0965543319105041,
          0.08380683583590606,
          0.0965543319105041,
          0.079091136890331,
          0.0965543319105041,
          0.07880495374692316,
          0.0965543319105041,
          0.08244066803353274,
          0.0965543319105041,
          0.13457744879757466,
          0.09846174248329682,
          0.07898336856959856,
          0.09846174248329682,
          0.0858112699204437,
          0.09846174248329682,
          0.07887206537370467,
          0.09846174248329682,
          0.09298076540290647,
          0.09846174248329682,
          0.07904505933114456,
          0.09846174248329682,
          0.08553695045176671,
          0.09846174248329682,
          0.07880579698709078,
          0.09846174248329682,
          0.07882894687736687,
          0.09846174248329682,
          0.08390626818051021,
          0.09846174248329682,
          0.1389094560651161,
          0.09594405390842306,
          0.07885638472801601,
          0.09594405390842306,
          0.08169273993318989,
          0.09594405390842306,
          0.07889632329885815,
          0.09594405390842306,
          0.0920034123726896,
          0.09594405390842306,
          0.07904076990533762,
          0.09594405390842306,
          0.08146766554523079,
          0.09594405390842306,
          0.07908294408890089,
          0.09594405390842306,
          0.0789797011323,
          0.09594405390842306,
          0.08084559891057191,
          0.09594405390842306,
          0.1273003048611451,
          0.09688882971003127,
          0.0790121219234681,
          0.09688882971003127,
          0.08466723594422247,
          0.09688882971003127,
          0.07894752218647007,
          0.09688882971003127,
          0.09268364867162944,
          0.09688882971003127,
          0.07906273002389544,
          0.09688882971003127,
          0.08440650765924843,
          0.09688882971003127,
          0.07883569201511348,
          0.09688882971003127,
          0.07879676604057793,
          0.09688882971003127,
          0.08295488393989565,
          0.09688882971003127,
          0.13591629590105142,
          0.09605708119773923,
          0.07892854235822105,
          0.09605708119773923,
          0.08222297310132327,
          0.09605708119773923,
          0.07879215099788525,
          0.09605708119773923,
          0.0922155383598177,
          0.09605708119773923,
          0.07907135382518135,
          0.09605708119773923,
          0.08209801154329754,
          0.09605708119773923,
          0.07894419045945951,
          0.09605708119773923,
          0.07903433576973236,
          0.09605708119773923,
          0.08099423901304854,
          0.09605708119773923,
          0.12912461126372496,
          0.10306797900892635,
          0.07877905149371105,
          0.10306797900892635,
          0.08866118684108502,
          0.10306797900892635,
          0.07882552553527335,
          0.10306797900892635,
          0.09471090677200152,
          0.10306797900892635,
          0.07890418532123623,
          0.10306797900892635,
          0.08844895054147492,
          0.10306797900892635,
          0.07972100319367786,
          0.10306797900892635,
          0.07982759941082676,
          0.10306797900892635,
          0.08712765794787063,
          0.10306797900892635,
          0.16002498185230055,
          0.09614262912992443,
          0.07891901544618646,
          0.09614262912992443,
          0.08229046053170544,
          0.09614262912992443,
          0.07872985154500825,
          0.09614262912992443,
          0.09225618968197315,
          0.09614262912992443,
          0.07904247626804087,
          0.09614262912992443,
          0.08217001336533579,
          0.09614262912992443,
          0.07893757764090245,
          0.09614262912992443,
          0.07909743856051502,
          0.09614262912992443,
          0.08104235406413196,
          0.09614262912992443,
          0.1294204484301184
         ]
        },
        {
         "mode": "lines",
         "name": "Optuna",
         "type": "scatter",
         "x": [
          0,
          1,
          2,
          3,
          4,
          5,
          6,
          7,
          8,
          9,
          10,
          11,
          12,
          13,
          14,
          15,
          16,
          17,
          18,
          19,
          20,
          21,
          22,
          23,
          24,
          25,
          26,
          27,
          28,
          29,
          30,
          31,
          32,
          33,
          34,
          35,
          36,
          37,
          38,
          39,
          40,
          41,
          42,
          43,
          44,
          45,
          46,
          47,
          48,
          49,
          50,
          51,
          52,
          53,
          54,
          55,
          56,
          57,
          58,
          59,
          60,
          61,
          62,
          63,
          64,
          65,
          66,
          67,
          68,
          69,
          70,
          71,
          72,
          73,
          74,
          75,
          76,
          77,
          78,
          79,
          80,
          81,
          82,
          83,
          84,
          85,
          86,
          87,
          88,
          89,
          90,
          91,
          92,
          93,
          94,
          95,
          96,
          97,
          98,
          99
         ],
         "y": [
          0.11992,
          0.10287,
          0.09645,
          0.09822,
          0.11395,
          0.11272,
          0.1165,
          0.09645,
          0.11764,
          0.10206,
          0.09837,
          0.09645,
          0.09776,
          0.09681,
          0.09846,
          0.09647,
          0.09846,
          0.09762,
          0.09647,
          0.09826,
          0.09668,
          0.09645,
          0.09647,
          0.09777,
          0.09644,
          0.09645,
          0.11392,
          0.09645,
          0.09777,
          0.11487,
          0.09814,
          0.09644,
          0.09645,
          0.09645,
          0.09712,
          0.09645,
          0.11456,
          0.09645,
          0.11617,
          0.09694,
          0.09799,
          0.09644,
          0.09645,
          0.09645,
          0.09685,
          0.09645,
          0.11488,
          0.09645,
          0.09838,
          0.09795,
          0.09727,
          0.09644,
          0.09646,
          0.09645,
          0.09652,
          0.09645,
          0.09769,
          0.09645,
          0.0969,
          0.11503,
          0.09644,
          0.09644,
          0.09644,
          0.09645,
          0.09644,
          0.09646,
          0.09646,
          0.09645,
          0.09667,
          0.09645,
          0.0973,
          0.09645,
          0.09645,
          0.09644,
          0.09645,
          0.09666,
          0.09644,
          0.11289,
          0.09645,
          0.09656,
          0.09778,
          0.09644,
          0.09646,
          0.09645,
          0.09646,
          0.09648,
          0.09645,
          0.0971,
          0.11467,
          0.09645,
          0.09645,
          0.09645,
          0.09645,
          0.09645,
          0.09644,
          0.09645,
          0.09678,
          0.09645,
          0.09773,
          0.09645
         ]
        }
       ],
       "layout": {
        "template": {
         "data": {
          "bar": [
           {
            "error_x": {
             "color": "#2a3f5f"
            },
            "error_y": {
             "color": "#2a3f5f"
            },
            "marker": {
             "line": {
              "color": "#E5ECF6",
              "width": 0.5
             },
             "pattern": {
              "fillmode": "overlay",
              "size": 10,
              "solidity": 0.2
             }
            },
            "type": "bar"
           }
          ],
          "barpolar": [
           {
            "marker": {
             "line": {
              "color": "#E5ECF6",
              "width": 0.5
             },
             "pattern": {
              "fillmode": "overlay",
              "size": 10,
              "solidity": 0.2
             }
            },
            "type": "barpolar"
           }
          ],
          "carpet": [
           {
            "aaxis": {
             "endlinecolor": "#2a3f5f",
             "gridcolor": "white",
             "linecolor": "white",
             "minorgridcolor": "white",
             "startlinecolor": "#2a3f5f"
            },
            "baxis": {
             "endlinecolor": "#2a3f5f",
             "gridcolor": "white",
             "linecolor": "white",
             "minorgridcolor": "white",
             "startlinecolor": "#2a3f5f"
            },
            "type": "carpet"
           }
          ],
          "choropleth": [
           {
            "colorbar": {
             "outlinewidth": 0,
             "ticks": ""
            },
            "type": "choropleth"
           }
          ],
          "contour": [
           {
            "colorbar": {
             "outlinewidth": 0,
             "ticks": ""
            },
            "colorscale": [
             [
              0,
              "#0d0887"
             ],
             [
              0.1111111111111111,
              "#46039f"
             ],
             [
              0.2222222222222222,
              "#7201a8"
             ],
             [
              0.3333333333333333,
              "#9c179e"
             ],
             [
              0.4444444444444444,
              "#bd3786"
             ],
             [
              0.5555555555555556,
              "#d8576b"
             ],
             [
              0.6666666666666666,
              "#ed7953"
             ],
             [
              0.7777777777777778,
              "#fb9f3a"
             ],
             [
              0.8888888888888888,
              "#fdca26"
             ],
             [
              1,
              "#f0f921"
             ]
            ],
            "type": "contour"
           }
          ],
          "contourcarpet": [
           {
            "colorbar": {
             "outlinewidth": 0,
             "ticks": ""
            },
            "type": "contourcarpet"
           }
          ],
          "heatmap": [
           {
            "colorbar": {
             "outlinewidth": 0,
             "ticks": ""
            },
            "colorscale": [
             [
              0,
              "#0d0887"
             ],
             [
              0.1111111111111111,
              "#46039f"
             ],
             [
              0.2222222222222222,
              "#7201a8"
             ],
             [
              0.3333333333333333,
              "#9c179e"
             ],
             [
              0.4444444444444444,
              "#bd3786"
             ],
             [
              0.5555555555555556,
              "#d8576b"
             ],
             [
              0.6666666666666666,
              "#ed7953"
             ],
             [
              0.7777777777777778,
              "#fb9f3a"
             ],
             [
              0.8888888888888888,
              "#fdca26"
             ],
             [
              1,
              "#f0f921"
             ]
            ],
            "type": "heatmap"
           }
          ],
          "heatmapgl": [
           {
            "colorbar": {
             "outlinewidth": 0,
             "ticks": ""
            },
            "colorscale": [
             [
              0,
              "#0d0887"
             ],
             [
              0.1111111111111111,
              "#46039f"
             ],
             [
              0.2222222222222222,
              "#7201a8"
             ],
             [
              0.3333333333333333,
              "#9c179e"
             ],
             [
              0.4444444444444444,
              "#bd3786"
             ],
             [
              0.5555555555555556,
              "#d8576b"
             ],
             [
              0.6666666666666666,
              "#ed7953"
             ],
             [
              0.7777777777777778,
              "#fb9f3a"
             ],
             [
              0.8888888888888888,
              "#fdca26"
             ],
             [
              1,
              "#f0f921"
             ]
            ],
            "type": "heatmapgl"
           }
          ],
          "histogram": [
           {
            "marker": {
             "pattern": {
              "fillmode": "overlay",
              "size": 10,
              "solidity": 0.2
             }
            },
            "type": "histogram"
           }
          ],
          "histogram2d": [
           {
            "colorbar": {
             "outlinewidth": 0,
             "ticks": ""
            },
            "colorscale": [
             [
              0,
              "#0d0887"
             ],
             [
              0.1111111111111111,
              "#46039f"
             ],
             [
              0.2222222222222222,
              "#7201a8"
             ],
             [
              0.3333333333333333,
              "#9c179e"
             ],
             [
              0.4444444444444444,
              "#bd3786"
             ],
             [
              0.5555555555555556,
              "#d8576b"
             ],
             [
              0.6666666666666666,
              "#ed7953"
             ],
             [
              0.7777777777777778,
              "#fb9f3a"
             ],
             [
              0.8888888888888888,
              "#fdca26"
             ],
             [
              1,
              "#f0f921"
             ]
            ],
            "type": "histogram2d"
           }
          ],
          "histogram2dcontour": [
           {
            "colorbar": {
             "outlinewidth": 0,
             "ticks": ""
            },
            "colorscale": [
             [
              0,
              "#0d0887"
             ],
             [
              0.1111111111111111,
              "#46039f"
             ],
             [
              0.2222222222222222,
              "#7201a8"
             ],
             [
              0.3333333333333333,
              "#9c179e"
             ],
             [
              0.4444444444444444,
              "#bd3786"
             ],
             [
              0.5555555555555556,
              "#d8576b"
             ],
             [
              0.6666666666666666,
              "#ed7953"
             ],
             [
              0.7777777777777778,
              "#fb9f3a"
             ],
             [
              0.8888888888888888,
              "#fdca26"
             ],
             [
              1,
              "#f0f921"
             ]
            ],
            "type": "histogram2dcontour"
           }
          ],
          "mesh3d": [
           {
            "colorbar": {
             "outlinewidth": 0,
             "ticks": ""
            },
            "type": "mesh3d"
           }
          ],
          "parcoords": [
           {
            "line": {
             "colorbar": {
              "outlinewidth": 0,
              "ticks": ""
             }
            },
            "type": "parcoords"
           }
          ],
          "pie": [
           {
            "automargin": true,
            "type": "pie"
           }
          ],
          "scatter": [
           {
            "fillpattern": {
             "fillmode": "overlay",
             "size": 10,
             "solidity": 0.2
            },
            "type": "scatter"
           }
          ],
          "scatter3d": [
           {
            "line": {
             "colorbar": {
              "outlinewidth": 0,
              "ticks": ""
             }
            },
            "marker": {
             "colorbar": {
              "outlinewidth": 0,
              "ticks": ""
             }
            },
            "type": "scatter3d"
           }
          ],
          "scattercarpet": [
           {
            "marker": {
             "colorbar": {
              "outlinewidth": 0,
              "ticks": ""
             }
            },
            "type": "scattercarpet"
           }
          ],
          "scattergeo": [
           {
            "marker": {
             "colorbar": {
              "outlinewidth": 0,
              "ticks": ""
             }
            },
            "type": "scattergeo"
           }
          ],
          "scattergl": [
           {
            "marker": {
             "colorbar": {
              "outlinewidth": 0,
              "ticks": ""
             }
            },
            "type": "scattergl"
           }
          ],
          "scattermapbox": [
           {
            "marker": {
             "colorbar": {
              "outlinewidth": 0,
              "ticks": ""
             }
            },
            "type": "scattermapbox"
           }
          ],
          "scatterpolar": [
           {
            "marker": {
             "colorbar": {
              "outlinewidth": 0,
              "ticks": ""
             }
            },
            "type": "scatterpolar"
           }
          ],
          "scatterpolargl": [
           {
            "marker": {
             "colorbar": {
              "outlinewidth": 0,
              "ticks": ""
             }
            },
            "type": "scatterpolargl"
           }
          ],
          "scatterternary": [
           {
            "marker": {
             "colorbar": {
              "outlinewidth": 0,
              "ticks": ""
             }
            },
            "type": "scatterternary"
           }
          ],
          "surface": [
           {
            "colorbar": {
             "outlinewidth": 0,
             "ticks": ""
            },
            "colorscale": [
             [
              0,
              "#0d0887"
             ],
             [
              0.1111111111111111,
              "#46039f"
             ],
             [
              0.2222222222222222,
              "#7201a8"
             ],
             [
              0.3333333333333333,
              "#9c179e"
             ],
             [
              0.4444444444444444,
              "#bd3786"
             ],
             [
              0.5555555555555556,
              "#d8576b"
             ],
             [
              0.6666666666666666,
              "#ed7953"
             ],
             [
              0.7777777777777778,
              "#fb9f3a"
             ],
             [
              0.8888888888888888,
              "#fdca26"
             ],
             [
              1,
              "#f0f921"
             ]
            ],
            "type": "surface"
           }
          ],
          "table": [
           {
            "cells": {
             "fill": {
              "color": "#EBF0F8"
             },
             "line": {
              "color": "white"
             }
            },
            "header": {
             "fill": {
              "color": "#C8D4E3"
             },
             "line": {
              "color": "white"
             }
            },
            "type": "table"
           }
          ]
         },
         "layout": {
          "annotationdefaults": {
           "arrowcolor": "#2a3f5f",
           "arrowhead": 0,
           "arrowwidth": 1
          },
          "autotypenumbers": "strict",
          "coloraxis": {
           "colorbar": {
            "outlinewidth": 0,
            "ticks": ""
           }
          },
          "colorscale": {
           "diverging": [
            [
             0,
             "#8e0152"
            ],
            [
             0.1,
             "#c51b7d"
            ],
            [
             0.2,
             "#de77ae"
            ],
            [
             0.3,
             "#f1b6da"
            ],
            [
             0.4,
             "#fde0ef"
            ],
            [
             0.5,
             "#f7f7f7"
            ],
            [
             0.6,
             "#e6f5d0"
            ],
            [
             0.7,
             "#b8e186"
            ],
            [
             0.8,
             "#7fbc41"
            ],
            [
             0.9,
             "#4d9221"
            ],
            [
             1,
             "#276419"
            ]
           ],
           "sequential": [
            [
             0,
             "#0d0887"
            ],
            [
             0.1111111111111111,
             "#46039f"
            ],
            [
             0.2222222222222222,
             "#7201a8"
            ],
            [
             0.3333333333333333,
             "#9c179e"
            ],
            [
             0.4444444444444444,
             "#bd3786"
            ],
            [
             0.5555555555555556,
             "#d8576b"
            ],
            [
             0.6666666666666666,
             "#ed7953"
            ],
            [
             0.7777777777777778,
             "#fb9f3a"
            ],
            [
             0.8888888888888888,
             "#fdca26"
            ],
            [
             1,
             "#f0f921"
            ]
           ],
           "sequentialminus": [
            [
             0,
             "#0d0887"
            ],
            [
             0.1111111111111111,
             "#46039f"
            ],
            [
             0.2222222222222222,
             "#7201a8"
            ],
            [
             0.3333333333333333,
             "#9c179e"
            ],
            [
             0.4444444444444444,
             "#bd3786"
            ],
            [
             0.5555555555555556,
             "#d8576b"
            ],
            [
             0.6666666666666666,
             "#ed7953"
            ],
            [
             0.7777777777777778,
             "#fb9f3a"
            ],
            [
             0.8888888888888888,
             "#fdca26"
            ],
            [
             1,
             "#f0f921"
            ]
           ]
          },
          "colorway": [
           "#636efa",
           "#EF553B",
           "#00cc96",
           "#ab63fa",
           "#FFA15A",
           "#19d3f3",
           "#FF6692",
           "#B6E880",
           "#FF97FF",
           "#FECB52"
          ],
          "font": {
           "color": "#2a3f5f"
          },
          "geo": {
           "bgcolor": "white",
           "lakecolor": "white",
           "landcolor": "#E5ECF6",
           "showlakes": true,
           "showland": true,
           "subunitcolor": "white"
          },
          "hoverlabel": {
           "align": "left"
          },
          "hovermode": "closest",
          "mapbox": {
           "style": "light"
          },
          "paper_bgcolor": "white",
          "plot_bgcolor": "#E5ECF6",
          "polar": {
           "angularaxis": {
            "gridcolor": "white",
            "linecolor": "white",
            "ticks": ""
           },
           "bgcolor": "#E5ECF6",
           "radialaxis": {
            "gridcolor": "white",
            "linecolor": "white",
            "ticks": ""
           }
          },
          "scene": {
           "xaxis": {
            "backgroundcolor": "#E5ECF6",
            "gridcolor": "white",
            "gridwidth": 2,
            "linecolor": "white",
            "showbackground": true,
            "ticks": "",
            "zerolinecolor": "white"
           },
           "yaxis": {
            "backgroundcolor": "#E5ECF6",
            "gridcolor": "white",
            "gridwidth": 2,
            "linecolor": "white",
            "showbackground": true,
            "ticks": "",
            "zerolinecolor": "white"
           },
           "zaxis": {
            "backgroundcolor": "#E5ECF6",
            "gridcolor": "white",
            "gridwidth": 2,
            "linecolor": "white",
            "showbackground": true,
            "ticks": "",
            "zerolinecolor": "white"
           }
          },
          "shapedefaults": {
           "line": {
            "color": "#2a3f5f"
           }
          },
          "ternary": {
           "aaxis": {
            "gridcolor": "white",
            "linecolor": "white",
            "ticks": ""
           },
           "baxis": {
            "gridcolor": "white",
            "linecolor": "white",
            "ticks": ""
           },
           "bgcolor": "#E5ECF6",
           "caxis": {
            "gridcolor": "white",
            "linecolor": "white",
            "ticks": ""
           }
          },
          "title": {
           "x": 0.05
          },
          "xaxis": {
           "automargin": true,
           "gridcolor": "white",
           "linecolor": "white",
           "ticks": "",
           "title": {
            "standoff": 15
           },
           "zerolinecolor": "white",
           "zerolinewidth": 2
          },
          "yaxis": {
           "automargin": true,
           "gridcolor": "white",
           "linecolor": "white",
           "ticks": "",
           "title": {
            "standoff": 15
           },
           "zerolinecolor": "white",
           "zerolinewidth": 2
          }
         }
        }
       }
      }
     },
     "metadata": {},
     "output_type": "display_data"
    }
   ],
   "source": [
    "pop.compare(param_grid_search, param_grid_ga)"
   ]
  },
  {
   "cell_type": "markdown",
   "metadata": {},
   "source": [
    "<font size = 10> Diabetes Dataset </font>"
   ]
  },
  {
   "cell_type": "markdown",
   "metadata": {},
   "source": [
    "<font size=6> Classification </font>"
   ]
  },
  {
   "cell_type": "code",
   "execution_count": null,
   "metadata": {},
   "outputs": [],
   "source": [
    "from sklearn.datasets import load_diabetes\n",
    "from sklearn import svm\n",
    "from sklearn.model_selection import train_test_split\n",
    "\n",
    "df = load_diabetes(as_frame = True)\n",
    "X = df.data\n",
    "y = df.target\n",
    "\n",
    "y_class = pd.Series([1 if i < 153 else 0 for i in y.values])\n",
    "y = y_class\n",
    "\n",
    "model = svm.SVC()\n",
    "\n",
    "pop = GenomeGrid(X,y,model, param_grid, scoring = \"recall\")\n",
    "pop.fit(log = False, verbose = False)"
   ]
  },
  {
   "cell_type": "markdown",
   "metadata": {},
   "source": [
    "<font size = 6> Regression </font>"
   ]
  },
  {
   "cell_type": "code",
   "execution_count": 10,
   "metadata": {},
   "outputs": [
    {
     "name": "stdout",
     "output_type": "stream",
     "text": [
      "Registering as a regression problem\n"
     ]
    },
    {
     "data": {
      "text/plain": [
       "(Genome = Params : {'kernel': 'poly', 'C': 0.20724287813818676, 'gamma': 0.05146720330082988}, Fitness : 64.85283018469228)"
      ]
     },
     "execution_count": 10,
     "metadata": {},
     "output_type": "execute_result"
    }
   ],
   "source": [
    "from sklearn.datasets import load_diabetes\n",
    "\n",
    "df = load_diabetes(as_frame = True)\n",
    "X = df.data\n",
    "y = df.target\n",
    "\n",
    "model = svm.SVR()\n",
    "\n",
    "pop = GenomeGrid(X,y,model, param_grid, scoring = \"mae\")\n",
    "pop.fit(log = False)"
   ]
  },
  {
   "cell_type": "code",
   "execution_count": 16,
   "metadata": {},
   "outputs": [
    {
     "name": "stdout",
     "output_type": "stream",
     "text": [
      "|             |   My GASearch |   sklearn GASearch |   sklearn GridSearchCV |   Optuna |\n",
      "|-------------|---------------|--------------------|------------------------|----------|\n",
      "| Test mae    |       65.7655 |            65.7655 |               65.7655  | 65.7655  |\n",
      "| Time Taken  |       16.9014 |            49.475  |                8.40586 |  1.44268 |\n",
      "My GASearch: {'kernel': 'poly', 'C': 0.20724287813818676, 'gamma': 0.05146720330082988}\n",
      "Sklearn GASearchCV: {'kernel': 'poly', 'C': 0.004511038368872566, 'gamma': 0.0036038527864497016}\n",
      "Sklearn GridSearchCV: {'C': 0.1746706002769588, 'gamma': 0.01880242809545074, 'kernel': 'poly'}\n",
      "Optuna: {'kernel': 'poly', 'C': 0.317724242747252, 'gamma': 0.02735480936292034}\n",
      "\n"
     ]
    },
    {
     "data": {
      "application/vnd.plotly.v1+json": {
       "config": {
        "plotlyServerURL": "https://plot.ly"
       },
       "data": [
        {
         "mode": "lines",
         "name": "My GASearch",
         "type": "scatter",
         "x": [
          0,
          1,
          2,
          3,
          4,
          5,
          6,
          7,
          8,
          9,
          10
         ],
         "y": [
          64.80879350868103,
          64.8528235011957,
          64.85282976815401,
          64.85282999172107,
          64.85283018121706,
          64.85282896803388,
          64.85283018387219,
          64.85282926876083,
          64.85283018469228,
          64.85282880206121,
          64.85283018469228
         ]
        },
        {
         "mode": "lines",
         "name": "Sklearn GASearchCV",
         "type": "scatter",
         "x": [
          0,
          1,
          2,
          3,
          4,
          5,
          6,
          7,
          8,
          9,
          10,
          11,
          12,
          13,
          14,
          15,
          16,
          17,
          18,
          19,
          20,
          21,
          22,
          23,
          24,
          25,
          26,
          27,
          28,
          29,
          30,
          31,
          32,
          33,
          34,
          35,
          36,
          37,
          38,
          39,
          40,
          41,
          42,
          43,
          44,
          45,
          46,
          47,
          48,
          49,
          50,
          51,
          52,
          53,
          54,
          55,
          56,
          57,
          58,
          59,
          60,
          61,
          62,
          63,
          64,
          65,
          66,
          67,
          68,
          69,
          70,
          71,
          72,
          73,
          74,
          75,
          76,
          77,
          78,
          79,
          80,
          81,
          82,
          83,
          84,
          85,
          86,
          87,
          88,
          89,
          90,
          91,
          92,
          93,
          94,
          95,
          96,
          97,
          98,
          99
         ],
         "y": [
          64.62706012191838,
          64.7494315323888,
          64.76343953396544,
          64.7634450826987,
          64.76344900970443,
          64.76344906641836,
          64.76344909748552,
          64.76344738650356,
          64.7634490976973,
          64.76344909771683,
          64.76344909771755,
          64.76344909771828,
          64.76344909771828,
          64.76344909771828,
          64.76344909771824,
          64.7634490977177,
          64.76344909611453,
          64.7634490961141,
          64.76344909758902,
          64.76344909280007,
          64.76344909771832,
          64.76344836930325,
          64.76344909771834,
          64.76344855644518,
          64.76344859591727,
          64.76344909771817,
          64.76344909771817,
          64.76344909771765,
          64.76344908253616,
          64.76344908970052,
          64.76344909771717,
          64.76344904455664,
          64.76344909771836,
          64.76344909690525,
          64.76344909771822,
          64.76344907420507,
          64.76344904338495,
          64.7634490977177,
          64.76344909771817,
          64.76344909771865,
          64.76344909771868,
          64.76306817995393,
          64.76344909771868,
          64.76344909771856,
          64.7634490977162,
          64.76344909771707,
          64.76344909771782,
          64.7634490977176,
          64.7634490977186,
          64.76344909771868,
          64.76344909771788,
          64.76344909771733,
          64.76344909771673,
          64.76344909771788,
          64.76344909771788,
          64.76344907602088,
          64.76344909771805,
          64.76344909771817,
          64.76344909771868,
          64.76344909771788,
          64.76344909771868,
          64.7634490975012,
          64.76344909771854,
          64.76344909029288,
          64.76344909771842,
          64.76344909771794,
          64.76344908300966,
          64.76344909771792,
          64.76344909771868,
          64.76344909771817,
          64.76344909771868,
          64.76344909771868,
          64.76344909771868,
          64.76344909771858,
          64.76344909771868,
          64.76344909771868,
          64.76344909771868,
          64.76344909771794,
          64.76344909749228,
          64.76344909771822,
          64.76344907876434,
          64.76344909771868,
          64.76344909771817,
          64.76344909771868,
          64.76344909770577,
          64.76344909553495,
          64.76344909771868,
          64.76344909771815,
          64.76344909714744,
          64.76344909771865,
          64.76344909771868,
          64.76344909771808,
          64.76344906661097,
          64.76344909771854,
          64.76344909771868,
          64.76344909038117,
          64.76344909771836,
          64.76344897055904,
          64.76344909771849,
          64.7634490977185
         ]
        },
        {
         "mode": "lines",
         "name": "Sklearn GridSearchCV",
         "type": "scatter",
         "x": [
          0,
          1,
          2,
          3,
          4,
          5,
          6,
          7,
          8,
          9,
          10,
          11,
          12,
          13,
          14,
          15,
          16,
          17,
          18,
          19,
          20,
          21,
          22,
          23,
          24,
          25,
          26,
          27,
          28,
          29,
          30,
          31,
          32,
          33,
          34,
          35,
          36,
          37,
          38,
          39,
          40,
          41,
          42,
          43,
          44,
          45,
          46,
          47,
          48,
          49,
          50,
          51,
          52,
          53,
          54,
          55,
          56,
          57,
          58,
          59,
          60,
          61,
          62,
          63,
          64,
          65,
          66,
          67,
          68,
          69,
          70,
          71,
          72,
          73,
          74,
          75,
          76,
          77,
          78,
          79,
          80,
          81,
          82,
          83,
          84,
          85,
          86,
          87,
          88,
          89,
          90,
          91,
          92,
          93,
          94,
          95,
          96,
          97,
          98,
          99
         ],
         "y": [
          64.39992775410322,
          64.55465476922947,
          64.39992775410322,
          64.55471555341923,
          64.39992775410322,
          64.55466455887655,
          64.39992775410322,
          64.55471691678346,
          64.39992775410322,
          64.55465694763834,
          64.39992775410322,
          64.55471548508442,
          64.39992775410322,
          64.55469359562646,
          64.39992775410322,
          64.55469656936857,
          64.39992775410322,
          64.55471490290383,
          64.39992775410322,
          64.554716980645,
          64.44438712834692,
          64.55467263805868,
          64.44438712834692,
          64.55471596349442,
          64.44438712834692,
          64.55467961587195,
          64.44438712834692,
          64.55471693526601,
          64.44438712834692,
          64.55467419077351,
          64.44438712834692,
          64.55471591478707,
          64.44438712834692,
          64.55470031253412,
          64.44438712834692,
          64.55470243214242,
          64.44438712834692,
          64.55471549982344,
          64.44438712834692,
          64.5547169807849,
          64.20905890370328,
          64.55457805643393,
          64.20905890370328,
          64.5547137929226,
          64.20905890370328,
          64.5545999175844,
          64.20905890370328,
          64.55471683743595,
          64.20905890370328,
          64.5545829210142,
          64.20905890370328,
          64.5547136403249,
          64.20905890370328,
          64.55466475922319,
          64.20905890370328,
          64.55467139985316,
          64.20905890370328,
          64.55471234026399,
          64.20905890370328,
          64.55471698004438,
          64.30973835074661,
          64.55461852087754,
          64.30973835074661,
          64.55471472154886,
          64.30973835074661,
          64.55463401455484,
          64.30973835074661,
          64.55471687929015,
          64.30973835074661,
          64.5546219685569,
          64.30973835074661,
          64.55471461339812,
          64.30973835074661,
          64.554679969841,
          64.30973835074661,
          64.55468467626201,
          64.30973835074661,
          64.55471369200453,
          64.30973835074661,
          64.55471698036119,
          64.38143230005025,
          64.55464733565411,
          64.38143230005025,
          64.55471538282468,
          64.38143230005025,
          64.55465829504647,
          64.38143230005025,
          64.5547169090946,
          64.38143230005025,
          64.55464977435668,
          64.38143230005025,
          64.55471530632467,
          64.38143230005025,
          64.55469080133932,
          64.38143230005025,
          64.55469413040791,
          64.38143230005025,
          64.5547146545805,
          64.38143230005025,
          64.55471698058679,
          64.12331066309666,
          64.55454291971307,
          64.12331066309666,
          64.55471298656327,
          64.12331066309666,
          64.55457030996783,
          64.12331066309666,
          64.55471680109243,
          64.12331066309666,
          64.55454901463901,
          64.12331066309666,
          64.5547127953707,
          64.12331066309666,
          64.5546515513008,
          64.12331066309666,
          64.55465987147343,
          64.12331066309666,
          64.55471116649942,
          64.12331066309666,
          64.55471697976928,
          64.33704969192726,
          64.55462949767826,
          64.33704969192726,
          64.55471497345755,
          64.33704969192726,
          64.55464326404936,
          64.33704969192726,
          64.55471689064396,
          64.33704969192726,
          64.5546325609945,
          64.33704969192726,
          64.55471487736396,
          64.33704969192726,
          64.55468409602948,
          64.33704969192726,
          64.55468827775708,
          64.33704969192726,
          64.55471405869153,
          64.33704969192726,
          64.55471698044713,
          64.17550292307011,
          64.5545645698274,
          64.17550292307011,
          64.5547134834159,
          64.17550292307011,
          64.55458855322641,
          64.17550292307011,
          64.55471682348613,
          64.17550292307011,
          64.55456990665401,
          64.17550292307011,
          64.55471331600424,
          64.17550292307011,
          64.55465968959666,
          64.17550292307011,
          64.55466697488927,
          64.17550292307011,
          64.5547118897353,
          64.17550292307011,
          64.55471697993877,
          64.473876370986,
          64.55468449018773,
          64.473876370986,
          64.55471623549117,
          64.473876370986,
          64.55468960295335,
          64.473876370986,
          64.55471694752521,
          64.473876370986,
          64.55468562788899,
          64.473876370986,
          64.55471619980247,
          64.473876370986,
          64.55470476775922,
          64.473876370986,
          64.55470632083325,
          64.473876370986,
          64.55471589575136,
          64.473876370986,
          64.5547169808777,
          64.18453945752636,
          64.5545682017339,
          64.18453945752636,
          64.55471356676522,
          64.18453945752636,
          64.55459161361713,
          64.18453945752636,
          64.55471682724276,
          64.18453945752636,
          64.55457341138587,
          64.18453945752636,
          64.5547134033429,
          64.18453945752636,
          64.55466105483332,
          64.18453945752636,
          64.55466816652003,
          64.18453945752636,
          64.55471201106143,
          64.18453945752636,
          64.55471697996722
         ]
        },
        {
         "mode": "lines",
         "name": "Optuna",
         "type": "scatter",
         "x": [
          0,
          1,
          2,
          3,
          4,
          5,
          6,
          7,
          8,
          9,
          10,
          11,
          12,
          13,
          14,
          15,
          16,
          17,
          18,
          19,
          20,
          21,
          22,
          23,
          24,
          25,
          26,
          27,
          28,
          29,
          30,
          31,
          32,
          33,
          34,
          35,
          36,
          37,
          38,
          39,
          40,
          41,
          42,
          43,
          44,
          45,
          46,
          47,
          48,
          49,
          50,
          51,
          52,
          53,
          54,
          55,
          56,
          57,
          58,
          59,
          60,
          61,
          62,
          63,
          64,
          65,
          66,
          67,
          68,
          69,
          70,
          71,
          72,
          73,
          74,
          75,
          76,
          77,
          78,
          79,
          80,
          81,
          82,
          83,
          84,
          85,
          86,
          87,
          88,
          89,
          90,
          91,
          92,
          93,
          94,
          95,
          96,
          97,
          98,
          99
         ],
         "y": [
          65.76548,
          65.76554,
          65.76548,
          65.7655,
          65.41418,
          65.45666,
          65.62552,
          65.4995,
          65.44022,
          65.76553,
          65.76554,
          65.76554,
          65.76554,
          65.76554,
          65.76554,
          65.76554,
          65.76554,
          65.76554,
          65.76554,
          65.76554,
          65.76554,
          65.76554,
          65.76554,
          65.76554,
          65.76554,
          65.76554,
          65.72069,
          65.76554,
          65.76554,
          65.76554,
          65.76554,
          65.76554,
          65.76554,
          65.76554,
          65.76554,
          65.76554,
          65.37004,
          65.76554,
          65.61877,
          65.76554,
          65.5445,
          65.76554,
          65.76554,
          65.76554,
          65.76554,
          65.76554,
          65.76554,
          65.76554,
          65.76015,
          65.76553,
          65.76554,
          65.76554,
          65.76554,
          65.76554,
          65.76554,
          65.76554,
          65.76554,
          65.76554,
          65.76554,
          65.76554,
          65.60786,
          65.76554,
          65.76554,
          65.76554,
          65.76554,
          65.76554,
          65.76554,
          65.76554,
          65.76554,
          65.76554,
          65.63999,
          65.76554,
          65.76554,
          65.76554,
          65.76554,
          65.76554,
          65.76554,
          65.76554,
          65.76554,
          65.76554,
          65.76554,
          65.76554,
          65.76554,
          65.76554,
          65.76554,
          65.719,
          65.76554,
          65.76554,
          65.76554,
          65.76554,
          65.76553,
          65.76554,
          65.76554,
          65.76554,
          65.76554,
          65.76554,
          65.76554,
          65.6179,
          65.76554,
          65.76554
         ]
        }
       ],
       "layout": {
        "template": {
         "data": {
          "bar": [
           {
            "error_x": {
             "color": "#2a3f5f"
            },
            "error_y": {
             "color": "#2a3f5f"
            },
            "marker": {
             "line": {
              "color": "#E5ECF6",
              "width": 0.5
             },
             "pattern": {
              "fillmode": "overlay",
              "size": 10,
              "solidity": 0.2
             }
            },
            "type": "bar"
           }
          ],
          "barpolar": [
           {
            "marker": {
             "line": {
              "color": "#E5ECF6",
              "width": 0.5
             },
             "pattern": {
              "fillmode": "overlay",
              "size": 10,
              "solidity": 0.2
             }
            },
            "type": "barpolar"
           }
          ],
          "carpet": [
           {
            "aaxis": {
             "endlinecolor": "#2a3f5f",
             "gridcolor": "white",
             "linecolor": "white",
             "minorgridcolor": "white",
             "startlinecolor": "#2a3f5f"
            },
            "baxis": {
             "endlinecolor": "#2a3f5f",
             "gridcolor": "white",
             "linecolor": "white",
             "minorgridcolor": "white",
             "startlinecolor": "#2a3f5f"
            },
            "type": "carpet"
           }
          ],
          "choropleth": [
           {
            "colorbar": {
             "outlinewidth": 0,
             "ticks": ""
            },
            "type": "choropleth"
           }
          ],
          "contour": [
           {
            "colorbar": {
             "outlinewidth": 0,
             "ticks": ""
            },
            "colorscale": [
             [
              0,
              "#0d0887"
             ],
             [
              0.1111111111111111,
              "#46039f"
             ],
             [
              0.2222222222222222,
              "#7201a8"
             ],
             [
              0.3333333333333333,
              "#9c179e"
             ],
             [
              0.4444444444444444,
              "#bd3786"
             ],
             [
              0.5555555555555556,
              "#d8576b"
             ],
             [
              0.6666666666666666,
              "#ed7953"
             ],
             [
              0.7777777777777778,
              "#fb9f3a"
             ],
             [
              0.8888888888888888,
              "#fdca26"
             ],
             [
              1,
              "#f0f921"
             ]
            ],
            "type": "contour"
           }
          ],
          "contourcarpet": [
           {
            "colorbar": {
             "outlinewidth": 0,
             "ticks": ""
            },
            "type": "contourcarpet"
           }
          ],
          "heatmap": [
           {
            "colorbar": {
             "outlinewidth": 0,
             "ticks": ""
            },
            "colorscale": [
             [
              0,
              "#0d0887"
             ],
             [
              0.1111111111111111,
              "#46039f"
             ],
             [
              0.2222222222222222,
              "#7201a8"
             ],
             [
              0.3333333333333333,
              "#9c179e"
             ],
             [
              0.4444444444444444,
              "#bd3786"
             ],
             [
              0.5555555555555556,
              "#d8576b"
             ],
             [
              0.6666666666666666,
              "#ed7953"
             ],
             [
              0.7777777777777778,
              "#fb9f3a"
             ],
             [
              0.8888888888888888,
              "#fdca26"
             ],
             [
              1,
              "#f0f921"
             ]
            ],
            "type": "heatmap"
           }
          ],
          "heatmapgl": [
           {
            "colorbar": {
             "outlinewidth": 0,
             "ticks": ""
            },
            "colorscale": [
             [
              0,
              "#0d0887"
             ],
             [
              0.1111111111111111,
              "#46039f"
             ],
             [
              0.2222222222222222,
              "#7201a8"
             ],
             [
              0.3333333333333333,
              "#9c179e"
             ],
             [
              0.4444444444444444,
              "#bd3786"
             ],
             [
              0.5555555555555556,
              "#d8576b"
             ],
             [
              0.6666666666666666,
              "#ed7953"
             ],
             [
              0.7777777777777778,
              "#fb9f3a"
             ],
             [
              0.8888888888888888,
              "#fdca26"
             ],
             [
              1,
              "#f0f921"
             ]
            ],
            "type": "heatmapgl"
           }
          ],
          "histogram": [
           {
            "marker": {
             "pattern": {
              "fillmode": "overlay",
              "size": 10,
              "solidity": 0.2
             }
            },
            "type": "histogram"
           }
          ],
          "histogram2d": [
           {
            "colorbar": {
             "outlinewidth": 0,
             "ticks": ""
            },
            "colorscale": [
             [
              0,
              "#0d0887"
             ],
             [
              0.1111111111111111,
              "#46039f"
             ],
             [
              0.2222222222222222,
              "#7201a8"
             ],
             [
              0.3333333333333333,
              "#9c179e"
             ],
             [
              0.4444444444444444,
              "#bd3786"
             ],
             [
              0.5555555555555556,
              "#d8576b"
             ],
             [
              0.6666666666666666,
              "#ed7953"
             ],
             [
              0.7777777777777778,
              "#fb9f3a"
             ],
             [
              0.8888888888888888,
              "#fdca26"
             ],
             [
              1,
              "#f0f921"
             ]
            ],
            "type": "histogram2d"
           }
          ],
          "histogram2dcontour": [
           {
            "colorbar": {
             "outlinewidth": 0,
             "ticks": ""
            },
            "colorscale": [
             [
              0,
              "#0d0887"
             ],
             [
              0.1111111111111111,
              "#46039f"
             ],
             [
              0.2222222222222222,
              "#7201a8"
             ],
             [
              0.3333333333333333,
              "#9c179e"
             ],
             [
              0.4444444444444444,
              "#bd3786"
             ],
             [
              0.5555555555555556,
              "#d8576b"
             ],
             [
              0.6666666666666666,
              "#ed7953"
             ],
             [
              0.7777777777777778,
              "#fb9f3a"
             ],
             [
              0.8888888888888888,
              "#fdca26"
             ],
             [
              1,
              "#f0f921"
             ]
            ],
            "type": "histogram2dcontour"
           }
          ],
          "mesh3d": [
           {
            "colorbar": {
             "outlinewidth": 0,
             "ticks": ""
            },
            "type": "mesh3d"
           }
          ],
          "parcoords": [
           {
            "line": {
             "colorbar": {
              "outlinewidth": 0,
              "ticks": ""
             }
            },
            "type": "parcoords"
           }
          ],
          "pie": [
           {
            "automargin": true,
            "type": "pie"
           }
          ],
          "scatter": [
           {
            "fillpattern": {
             "fillmode": "overlay",
             "size": 10,
             "solidity": 0.2
            },
            "type": "scatter"
           }
          ],
          "scatter3d": [
           {
            "line": {
             "colorbar": {
              "outlinewidth": 0,
              "ticks": ""
             }
            },
            "marker": {
             "colorbar": {
              "outlinewidth": 0,
              "ticks": ""
             }
            },
            "type": "scatter3d"
           }
          ],
          "scattercarpet": [
           {
            "marker": {
             "colorbar": {
              "outlinewidth": 0,
              "ticks": ""
             }
            },
            "type": "scattercarpet"
           }
          ],
          "scattergeo": [
           {
            "marker": {
             "colorbar": {
              "outlinewidth": 0,
              "ticks": ""
             }
            },
            "type": "scattergeo"
           }
          ],
          "scattergl": [
           {
            "marker": {
             "colorbar": {
              "outlinewidth": 0,
              "ticks": ""
             }
            },
            "type": "scattergl"
           }
          ],
          "scattermapbox": [
           {
            "marker": {
             "colorbar": {
              "outlinewidth": 0,
              "ticks": ""
             }
            },
            "type": "scattermapbox"
           }
          ],
          "scatterpolar": [
           {
            "marker": {
             "colorbar": {
              "outlinewidth": 0,
              "ticks": ""
             }
            },
            "type": "scatterpolar"
           }
          ],
          "scatterpolargl": [
           {
            "marker": {
             "colorbar": {
              "outlinewidth": 0,
              "ticks": ""
             }
            },
            "type": "scatterpolargl"
           }
          ],
          "scatterternary": [
           {
            "marker": {
             "colorbar": {
              "outlinewidth": 0,
              "ticks": ""
             }
            },
            "type": "scatterternary"
           }
          ],
          "surface": [
           {
            "colorbar": {
             "outlinewidth": 0,
             "ticks": ""
            },
            "colorscale": [
             [
              0,
              "#0d0887"
             ],
             [
              0.1111111111111111,
              "#46039f"
             ],
             [
              0.2222222222222222,
              "#7201a8"
             ],
             [
              0.3333333333333333,
              "#9c179e"
             ],
             [
              0.4444444444444444,
              "#bd3786"
             ],
             [
              0.5555555555555556,
              "#d8576b"
             ],
             [
              0.6666666666666666,
              "#ed7953"
             ],
             [
              0.7777777777777778,
              "#fb9f3a"
             ],
             [
              0.8888888888888888,
              "#fdca26"
             ],
             [
              1,
              "#f0f921"
             ]
            ],
            "type": "surface"
           }
          ],
          "table": [
           {
            "cells": {
             "fill": {
              "color": "#EBF0F8"
             },
             "line": {
              "color": "white"
             }
            },
            "header": {
             "fill": {
              "color": "#C8D4E3"
             },
             "line": {
              "color": "white"
             }
            },
            "type": "table"
           }
          ]
         },
         "layout": {
          "annotationdefaults": {
           "arrowcolor": "#2a3f5f",
           "arrowhead": 0,
           "arrowwidth": 1
          },
          "autotypenumbers": "strict",
          "coloraxis": {
           "colorbar": {
            "outlinewidth": 0,
            "ticks": ""
           }
          },
          "colorscale": {
           "diverging": [
            [
             0,
             "#8e0152"
            ],
            [
             0.1,
             "#c51b7d"
            ],
            [
             0.2,
             "#de77ae"
            ],
            [
             0.3,
             "#f1b6da"
            ],
            [
             0.4,
             "#fde0ef"
            ],
            [
             0.5,
             "#f7f7f7"
            ],
            [
             0.6,
             "#e6f5d0"
            ],
            [
             0.7,
             "#b8e186"
            ],
            [
             0.8,
             "#7fbc41"
            ],
            [
             0.9,
             "#4d9221"
            ],
            [
             1,
             "#276419"
            ]
           ],
           "sequential": [
            [
             0,
             "#0d0887"
            ],
            [
             0.1111111111111111,
             "#46039f"
            ],
            [
             0.2222222222222222,
             "#7201a8"
            ],
            [
             0.3333333333333333,
             "#9c179e"
            ],
            [
             0.4444444444444444,
             "#bd3786"
            ],
            [
             0.5555555555555556,
             "#d8576b"
            ],
            [
             0.6666666666666666,
             "#ed7953"
            ],
            [
             0.7777777777777778,
             "#fb9f3a"
            ],
            [
             0.8888888888888888,
             "#fdca26"
            ],
            [
             1,
             "#f0f921"
            ]
           ],
           "sequentialminus": [
            [
             0,
             "#0d0887"
            ],
            [
             0.1111111111111111,
             "#46039f"
            ],
            [
             0.2222222222222222,
             "#7201a8"
            ],
            [
             0.3333333333333333,
             "#9c179e"
            ],
            [
             0.4444444444444444,
             "#bd3786"
            ],
            [
             0.5555555555555556,
             "#d8576b"
            ],
            [
             0.6666666666666666,
             "#ed7953"
            ],
            [
             0.7777777777777778,
             "#fb9f3a"
            ],
            [
             0.8888888888888888,
             "#fdca26"
            ],
            [
             1,
             "#f0f921"
            ]
           ]
          },
          "colorway": [
           "#636efa",
           "#EF553B",
           "#00cc96",
           "#ab63fa",
           "#FFA15A",
           "#19d3f3",
           "#FF6692",
           "#B6E880",
           "#FF97FF",
           "#FECB52"
          ],
          "font": {
           "color": "#2a3f5f"
          },
          "geo": {
           "bgcolor": "white",
           "lakecolor": "white",
           "landcolor": "#E5ECF6",
           "showlakes": true,
           "showland": true,
           "subunitcolor": "white"
          },
          "hoverlabel": {
           "align": "left"
          },
          "hovermode": "closest",
          "mapbox": {
           "style": "light"
          },
          "paper_bgcolor": "white",
          "plot_bgcolor": "#E5ECF6",
          "polar": {
           "angularaxis": {
            "gridcolor": "white",
            "linecolor": "white",
            "ticks": ""
           },
           "bgcolor": "#E5ECF6",
           "radialaxis": {
            "gridcolor": "white",
            "linecolor": "white",
            "ticks": ""
           }
          },
          "scene": {
           "xaxis": {
            "backgroundcolor": "#E5ECF6",
            "gridcolor": "white",
            "gridwidth": 2,
            "linecolor": "white",
            "showbackground": true,
            "ticks": "",
            "zerolinecolor": "white"
           },
           "yaxis": {
            "backgroundcolor": "#E5ECF6",
            "gridcolor": "white",
            "gridwidth": 2,
            "linecolor": "white",
            "showbackground": true,
            "ticks": "",
            "zerolinecolor": "white"
           },
           "zaxis": {
            "backgroundcolor": "#E5ECF6",
            "gridcolor": "white",
            "gridwidth": 2,
            "linecolor": "white",
            "showbackground": true,
            "ticks": "",
            "zerolinecolor": "white"
           }
          },
          "shapedefaults": {
           "line": {
            "color": "#2a3f5f"
           }
          },
          "ternary": {
           "aaxis": {
            "gridcolor": "white",
            "linecolor": "white",
            "ticks": ""
           },
           "baxis": {
            "gridcolor": "white",
            "linecolor": "white",
            "ticks": ""
           },
           "bgcolor": "#E5ECF6",
           "caxis": {
            "gridcolor": "white",
            "linecolor": "white",
            "ticks": ""
           }
          },
          "title": {
           "x": 0.05
          },
          "xaxis": {
           "automargin": true,
           "gridcolor": "white",
           "linecolor": "white",
           "ticks": "",
           "title": {
            "standoff": 15
           },
           "zerolinecolor": "white",
           "zerolinewidth": 2
          },
          "yaxis": {
           "automargin": true,
           "gridcolor": "white",
           "linecolor": "white",
           "ticks": "",
           "title": {
            "standoff": 15
           },
           "zerolinecolor": "white",
           "zerolinewidth": 2
          }
         }
        }
       }
      }
     },
     "metadata": {},
     "output_type": "display_data"
    }
   ],
   "source": [
    "pop.compare(param_grid_search, param_grid_ga)"
   ]
  },
  {
   "cell_type": "markdown",
   "metadata": {},
   "source": [
    "<font size = 10> California Housing Dataset </font>"
   ]
  },
  {
   "cell_type": "markdown",
   "metadata": {},
   "source": [
    "<font size=6> Classification </font>"
   ]
  },
  {
   "cell_type": "code",
   "execution_count": null,
   "metadata": {},
   "outputs": [],
   "source": [
    "from sklearn.datasets import fetch_california_housing\n",
    "from sklearn import svm\n",
    "from sklearn.model_selection import train_test_split\n",
    "\n",
    "df = fetch_california_housing(as_frame = True)"
   ]
  },
  {
   "cell_type": "code",
   "execution_count": 2,
   "metadata": {},
   "outputs": [],
   "source": [
    "from gen_algo import *"
   ]
  },
  {
   "cell_type": "code",
   "execution_count": 5,
   "metadata": {},
   "outputs": [
    {
     "name": "stdout",
     "output_type": "stream",
     "text": [
      "Registering as a regression problem\n"
     ]
    },
    {
     "data": {
      "text/plain": [
       "(Genome = Params : {'kernel': 'poly', 'C': 0.09221700887172424, 'gamma': 0.2917927742254326}, Fitness : 64.8528298653793)"
      ]
     },
     "execution_count": 5,
     "metadata": {},
     "output_type": "execute_result"
    }
   ],
   "source": [
    "from sklearn.datasets import load_diabetes\n",
    "from sklearn import svm\n",
    "\n",
    "\n",
    "df = load_diabetes(as_frame = True)\n",
    "X = df.data\n",
    "y = df.target\n",
    "\n",
    "model = svm.SVR()\n",
    "\n",
    "pop = GenomeGrid(X,y,model, param_grid, scoring = \"mae\")\n",
    "pop.fit(log = False)"
   ]
  }
 ],
 "metadata": {
  "kernelspec": {
   "display_name": "base",
   "language": "python",
   "name": "python3"
  },
  "language_info": {
   "codemirror_mode": {
    "name": "ipython",
    "version": 3
   },
   "file_extension": ".py",
   "mimetype": "text/x-python",
   "name": "python",
   "nbconvert_exporter": "python",
   "pygments_lexer": "ipython3",
   "version": "3.11.4"
  },
  "orig_nbformat": 4
 },
 "nbformat": 4,
 "nbformat_minor": 2
}
